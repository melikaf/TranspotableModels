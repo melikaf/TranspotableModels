{
 "cells": [
  {
   "cell_type": "code",
   "execution_count": 57,
   "metadata": {},
   "outputs": [],
   "source": [
    "import pandas as pd\n",
    "fp = \"canada_fires.csv\"\n",
    "full_data = pd.read_csv(fp, dtype=str)"
   ]
  },
  {
   "cell_type": "code",
   "execution_count": 71,
   "metadata": {},
   "outputs": [
    {
     "data": {
      "text/plain": [
       "Index(['WKT', 'SRC_AGENCY', 'FIRE_ID', 'FIRENAME', 'LATITUDE', 'LONGITUDE',\n",
       "       'YEAR', 'MONTH', 'DAY', 'REP_DATE', 'ATTK_DATE', 'OUT_DATE', 'DECADE',\n",
       "       'SIZE_HA', 'CAUSE', 'PROTZONE', 'FIRE_TYPE', 'CFS_REF_ID', 'ACQ_DATE',\n",
       "       'SRC_AGY2', 'ECOZONE', 'ECOZ_REF', 'ECOZ_NAME'],\n",
       "      dtype='object')"
      ]
     },
     "execution_count": 71,
     "metadata": {},
     "output_type": "execute_result"
    }
   ],
   "source": [
    "full_data.columns"
   ]
  },
  {
   "cell_type": "code",
   "execution_count": 2,
   "metadata": {},
   "outputs": [
    {
     "ename": "NameError",
     "evalue": "name 'df_train' is not defined",
     "output_type": "error",
     "traceback": [
      "\u001b[0;31m---------------------------------------------------------------------------\u001b[0m",
      "\u001b[0;31mNameError\u001b[0m                                 Traceback (most recent call last)",
      "\u001b[0;32m<ipython-input-2-57902155231d>\u001b[0m in \u001b[0;36m<module>\u001b[0;34m\u001b[0m\n\u001b[0;32m----> 1\u001b[0;31m \u001b[0mp\u001b[0m \u001b[0;34m=\u001b[0m \u001b[0mpd\u001b[0m\u001b[0;34m.\u001b[0m\u001b[0mto_numeric\u001b[0m\u001b[0;34m(\u001b[0m\u001b[0mdf_train\u001b[0m\u001b[0;34m[\u001b[0m\u001b[0;34m'SIZE_HA'\u001b[0m\u001b[0;34m]\u001b[0m\u001b[0;34m)\u001b[0m\u001b[0;34m\u001b[0m\u001b[0;34m\u001b[0m\u001b[0m\n\u001b[0m\u001b[1;32m      2\u001b[0m \u001b[0mt\u001b[0m \u001b[0;34m=\u001b[0m \u001b[0mlist\u001b[0m\u001b[0;34m(\u001b[0m\u001b[0mp\u001b[0m\u001b[0;34m)\u001b[0m\u001b[0;34m\u001b[0m\u001b[0;34m\u001b[0m\u001b[0m\n\u001b[1;32m      3\u001b[0m \u001b[0;32mfor\u001b[0m \u001b[0mx\u001b[0m \u001b[0;32min\u001b[0m \u001b[0mt\u001b[0m\u001b[0;34m:\u001b[0m\u001b[0;34m\u001b[0m\u001b[0;34m\u001b[0m\u001b[0m\n\u001b[1;32m      4\u001b[0m     \u001b[0;32mif\u001b[0m  \u001b[0;36m0\u001b[0m\u001b[0;34m:\u001b[0m\u001b[0;34m\u001b[0m\u001b[0;34m\u001b[0m\u001b[0m\n\u001b[1;32m      5\u001b[0m         \u001b[0mget_min\u001b[0m \u001b[0;34m=\u001b[0m \u001b[0mmin\u001b[0m\u001b[0;34m(\u001b[0m\u001b[0mget_min\u001b[0m\u001b[0;34m,\u001b[0m \u001b[0mx\u001b[0m\u001b[0;34m)\u001b[0m\u001b[0;34m\u001b[0m\u001b[0;34m\u001b[0m\u001b[0m\n",
      "\u001b[0;31mNameError\u001b[0m: name 'df_train' is not defined"
     ]
    }
   ],
   "source": [
    "p = pd.to_numeric(df_train['SIZE_HA'])\n",
    "t = list(p)\n",
    "for x in t:\n",
    "    if  0:\n",
    "        get_min = min(get_min, x)\n",
    "print(get_min)"
   ]
  },
  {
   "cell_type": "code",
   "execution_count": 58,
   "metadata": {},
   "outputs": [],
   "source": [
    "'''\n",
    "I remove:\n",
    "WKT,\n",
    "FIRE_ID,\n",
    "FIRENAME,\n",
    "SRC_AGENCY, LATITUDE, LONGITUDE, as we have Zones,\n",
    "DAY may not be as important as year and months\n",
    "I don't know what's ATTK_DATE but it's always NaN when out_date is NaN. So it's not helpful in prediction.\n",
    "we use DECADE instead of YEAR\n",
    "I don't know whats ACQ_DATE but it seems to be not related.\n",
    "I don't use PROTZONE for now [Whats that? It may be good to be used.]\n",
    "CFS_REF_ID,'SRC_AGY2', 'ECOZ_REF', 'ECOZ_NAME'\n",
    "\n",
    "'''\n",
    "df = full_data[[\"MONTH\", \"REP_DATE\", \"OUT_DATE\", \"DECADE\", \"SIZE_HA\", \"CAUSE\", \"FIRE_TYPE\",  \"ECOZONE\"]]\n",
    "df = df.fillna('NaN')\n"
   ]
  },
  {
   "cell_type": "code",
   "execution_count": 5,
   "metadata": {},
   "outputs": [
    {
     "data": {
      "text/html": [
       "<div>\n",
       "<style scoped>\n",
       "    .dataframe tbody tr th:only-of-type {\n",
       "        vertical-align: middle;\n",
       "    }\n",
       "\n",
       "    .dataframe tbody tr th {\n",
       "        vertical-align: top;\n",
       "    }\n",
       "\n",
       "    .dataframe thead th {\n",
       "        text-align: right;\n",
       "    }\n",
       "</style>\n",
       "<table border=\"1\" class=\"dataframe\">\n",
       "  <thead>\n",
       "    <tr style=\"text-align: right;\">\n",
       "      <th></th>\n",
       "      <th>MONTH</th>\n",
       "      <th>REP_DATE</th>\n",
       "      <th>OUT_DATE</th>\n",
       "      <th>DECADE</th>\n",
       "      <th>SIZE_HA</th>\n",
       "      <th>CAUSE</th>\n",
       "      <th>FIRE_TYPE</th>\n",
       "      <th>ECOZONE</th>\n",
       "    </tr>\n",
       "  </thead>\n",
       "  <tbody>\n",
       "    <tr>\n",
       "      <th>0</th>\n",
       "      <td>7</td>\n",
       "      <td>7/5/1970</td>\n",
       "      <td>NaN</td>\n",
       "      <td>1970-1979</td>\n",
       "      <td>1173.6</td>\n",
       "      <td>H</td>\n",
       "      <td>NaN</td>\n",
       "      <td>5</td>\n",
       "    </tr>\n",
       "    <tr>\n",
       "      <th>1</th>\n",
       "      <td>6</td>\n",
       "      <td>6/18/1968</td>\n",
       "      <td>NaN</td>\n",
       "      <td>1960-1969</td>\n",
       "      <td>404.69</td>\n",
       "      <td>L</td>\n",
       "      <td>NaN</td>\n",
       "      <td>5</td>\n",
       "    </tr>\n",
       "    <tr>\n",
       "      <th>2</th>\n",
       "      <td>7</td>\n",
       "      <td>7/25/1967</td>\n",
       "      <td>NaN</td>\n",
       "      <td>1960-1969</td>\n",
       "      <td>404.1</td>\n",
       "      <td>L</td>\n",
       "      <td>NaN</td>\n",
       "      <td>5</td>\n",
       "    </tr>\n",
       "    <tr>\n",
       "      <th>3</th>\n",
       "      <td>6</td>\n",
       "      <td>6/29/1967</td>\n",
       "      <td>NaN</td>\n",
       "      <td>1960-1969</td>\n",
       "      <td>1252.1</td>\n",
       "      <td>L</td>\n",
       "      <td>NaN</td>\n",
       "      <td>5</td>\n",
       "    </tr>\n",
       "    <tr>\n",
       "      <th>4</th>\n",
       "      <td>9</td>\n",
       "      <td>9/11/1967</td>\n",
       "      <td>NaN</td>\n",
       "      <td>1960-1969</td>\n",
       "      <td>1279.6</td>\n",
       "      <td>L</td>\n",
       "      <td>NaN</td>\n",
       "      <td>5</td>\n",
       "    </tr>\n",
       "  </tbody>\n",
       "</table>\n",
       "</div>"
      ],
      "text/plain": [
       "  MONTH   REP_DATE OUT_DATE     DECADE SIZE_HA CAUSE FIRE_TYPE ECOZONE\n",
       "0     7   7/5/1970      NaN  1970-1979  1173.6     H       NaN       5\n",
       "1     6  6/18/1968      NaN  1960-1969  404.69     L       NaN       5\n",
       "2     7  7/25/1967      NaN  1960-1969   404.1     L       NaN       5\n",
       "3     6  6/29/1967      NaN  1960-1969  1252.1     L       NaN       5\n",
       "4     9  9/11/1967      NaN  1960-1969  1279.6     L       NaN       5"
      ]
     },
     "execution_count": 5,
     "metadata": {},
     "output_type": "execute_result"
    }
   ],
   "source": [
    "df.head()"
   ]
  },
  {
   "cell_type": "code",
   "execution_count": 103,
   "metadata": {},
   "outputs": [
    {
     "data": {
      "text/plain": [
       "{'1',\n",
       " '2',\n",
       " '3',\n",
       " '4',\n",
       " 'Crown',\n",
       " 'Dump',\n",
       " 'Fire',\n",
       " 'Forest',\n",
       " 'Grass',\n",
       " 'Ground',\n",
       " 'IFR',\n",
       " 'Mutual Aid',\n",
       " 'NaN',\n",
       " 'OFR',\n",
       " 'Other',\n",
       " 'Prescribed Burn',\n",
       " 'Req For Assist',\n",
       " 'Request For Ass*',\n",
       " 'Surface',\n",
       " 'Type 1',\n",
       " 'Type 2',\n",
       " 'Type 3',\n",
       " 'Type 4',\n",
       " 'Type 5',\n",
       " 'Wildfire'}"
      ]
     },
     "execution_count": 103,
     "metadata": {},
     "output_type": "execute_result"
    }
   ],
   "source": [
    "set(list(df[\"FIRE_TYPE\"].values))"
   ]
  },
  {
   "cell_type": "code",
   "execution_count": 148,
   "metadata": {},
   "outputs": [
    {
     "name": "stderr",
     "output_type": "stream",
     "text": [
      "/Users/melika/anaconda3/envs/myenv/lib/python3.6/site-packages/pandas/core/frame.py:3069: SettingWithCopyWarning: \n",
      "A value is trying to be set on a copy of a slice from a DataFrame.\n",
      "Try using .loc[row_indexer,col_indexer] = value instead\n",
      "\n",
      "See the caveats in the documentation: https://pandas.pydata.org/pandas-docs/stable/user_guide/indexing.html#returning-a-view-versus-a-copy\n",
      "  self[k1] = value[k2]\n",
      "/Users/melika/anaconda3/envs/myenv/lib/python3.6/site-packages/ipykernel_launcher.py:4: SettingWithCopyWarning: \n",
      "A value is trying to be set on a copy of a slice from a DataFrame.\n",
      "Try using .loc[row_indexer,col_indexer] = value instead\n",
      "\n",
      "See the caveats in the documentation: https://pandas.pydata.org/pandas-docs/stable/user_guide/indexing.html#returning-a-view-versus-a-copy\n",
      "  after removing the cwd from sys.path.\n"
     ]
    }
   ],
   "source": [
    "df_train = df[(df['OUT_DATE'] != \"NaN\") & (df['REP_DATE'] != \"NaN\")]\n",
    "\n",
    "df_train[['REP_DATE','OUT_DATE']] = df_train[['REP_DATE','OUT_DATE']].apply(pd.to_datetime) #if conversion required\n",
    "df_train['duration_days'] = (df_train['OUT_DATE'] - df_train['REP_DATE']).dt.days\n",
    "df_train = df_train.drop(['OUT_DATE', 'REP_DATE'],axis = 1)\n",
    "df_train.to_csv(\"before_encode.csv\")"
   ]
  },
  {
   "cell_type": "code",
   "execution_count": 149,
   "metadata": {},
   "outputs": [
    {
     "data": {
      "text/plain": [
       "{-6, -5, -4, -3, -2, -1, 0, 1, 2, 3, 4, 5, 6}"
      ]
     },
     "execution_count": 149,
     "metadata": {},
     "output_type": "execute_result"
    }
   ],
   "source": [
    "import numpy as np\n",
    "df = full_data[[\"MONTH\", \"REP_DATE\", \"OUT_DATE\", \"DECADE\", \"SIZE_HA\", \"CAUSE\", \"FIRE_TYPE\",  \"ECOZONE\"]]\n",
    "df = df.fillna('NaN')\n",
    "\n",
    "df['SIZE_HA'] = pd.to_numeric(df['SIZE_HA'])\n",
    "\n",
    "df['SIZE_HA']=df['SIZE_HA'].replace(0,0.000001)\n",
    "df['SIZE_HA'] = np.log10(df['SIZE_HA']).astype(int)\n",
    "df = df.rename(columns = {\"SIZE_HA\" : \"SIZE_HA_log\"})\n",
    "\n",
    "set(list(df[\"SIZE_HA_log\"].values))"
   ]
  },
  {
   "cell_type": "code",
   "execution_count": 82,
   "metadata": {},
   "outputs": [],
   "source": [
    "\n",
    "# One hot month => We do not have NaN in months so one_hot would be enough\n",
    "one_hot = pd.get_dummies(df['MONTH'])\n",
    "one_hot = one_hot.rename(columns = {'0': 'month_0', '1': 'month_1', '2': 'month_2',\n",
    "                                   '3': 'month_3', '4': 'month_4', '5': 'month_5',\n",
    "                                    '6': 'month_6', '7':'month_7', '8': 'month_8',\n",
    "                                    '9': 'month_9', '10': 'month_10', '11': 'month_11',\n",
    "                                    '12': 'month_12'                   \n",
    "                                   })\n",
    "\n",
    "one_hot\n",
    "df = df.drop('MONTH',axis = 1)\n",
    "df = df.join(one_hot)\n",
    "\n",
    "#ONE HOT CAUSE\n",
    "\n",
    "one_hot = pd.get_dummies(df['CAUSE'])\n",
    "one_hot.drop('NaN', axis=1, inplace=True) #NaN values encoding\n",
    "one_hot = one_hot.rename(columns = {\n",
    "    \"H\" : \"cause_H\",\n",
    "    \"H-PB\": \"cause_PB\",\n",
    "    \"L\": \"cause_L\",\n",
    "    \"RE\": \"cause_RE\",\n",
    "    \"U\": \"cause_U\"\n",
    "})\n",
    "df = df.drop('CAUSE',axis = 1)\n",
    "df = df.join(one_hot)\n",
    "\n",
    "# ONE HOT DECADE \n",
    "one_hot = pd.get_dummies(df['DECADE'])\n",
    "df = df.drop('DECADE',axis = 1)\n",
    "df = df.join(one_hot)\n",
    "\n",
    "# Fire TYPE\n",
    "one_hot = pd.get_dummies(df['FIRE_TYPE'])\n",
    "one_hot.drop('NaN', axis=1, inplace=True) #NaN values encoding\n",
    "df = df.drop('FIRE_TYPE',axis = 1)\n",
    "df = df.join(one_hot)"
   ]
  },
  {
   "cell_type": "code",
   "execution_count": 24,
   "metadata": {},
   "outputs": [
    {
     "data": {
      "text/html": [
       "<div>\n",
       "<style scoped>\n",
       "    .dataframe tbody tr th:only-of-type {\n",
       "        vertical-align: middle;\n",
       "    }\n",
       "\n",
       "    .dataframe tbody tr th {\n",
       "        vertical-align: top;\n",
       "    }\n",
       "\n",
       "    .dataframe thead th {\n",
       "        text-align: right;\n",
       "    }\n",
       "</style>\n",
       "<table border=\"1\" class=\"dataframe\">\n",
       "  <thead>\n",
       "    <tr style=\"text-align: right;\">\n",
       "      <th></th>\n",
       "      <th>MONTH</th>\n",
       "      <th>DECADE</th>\n",
       "      <th>SIZE_HA_log</th>\n",
       "      <th>CAUSE</th>\n",
       "      <th>FIRE_TYPE</th>\n",
       "      <th>ECOZONE</th>\n",
       "      <th>duration_days</th>\n",
       "    </tr>\n",
       "  </thead>\n",
       "  <tbody>\n",
       "    <tr>\n",
       "      <th>5</th>\n",
       "      <td>7</td>\n",
       "      <td>2010-2019</td>\n",
       "      <td>3</td>\n",
       "      <td>L</td>\n",
       "      <td>NaN</td>\n",
       "      <td>5</td>\n",
       "      <td>24</td>\n",
       "    </tr>\n",
       "    <tr>\n",
       "      <th>6</th>\n",
       "      <td>7</td>\n",
       "      <td>2010-2019</td>\n",
       "      <td>0</td>\n",
       "      <td>L</td>\n",
       "      <td>NaN</td>\n",
       "      <td>5</td>\n",
       "      <td>17</td>\n",
       "    </tr>\n",
       "    <tr>\n",
       "      <th>7</th>\n",
       "      <td>7</td>\n",
       "      <td>2010-2019</td>\n",
       "      <td>1</td>\n",
       "      <td>L</td>\n",
       "      <td>NaN</td>\n",
       "      <td>5</td>\n",
       "      <td>17</td>\n",
       "    </tr>\n",
       "    <tr>\n",
       "      <th>8</th>\n",
       "      <td>7</td>\n",
       "      <td>2010-2019</td>\n",
       "      <td>0</td>\n",
       "      <td>L</td>\n",
       "      <td>NaN</td>\n",
       "      <td>6</td>\n",
       "      <td>3</td>\n",
       "    </tr>\n",
       "    <tr>\n",
       "      <th>9</th>\n",
       "      <td>7</td>\n",
       "      <td>2010-2019</td>\n",
       "      <td>0</td>\n",
       "      <td>L</td>\n",
       "      <td>NaN</td>\n",
       "      <td>6</td>\n",
       "      <td>3</td>\n",
       "    </tr>\n",
       "  </tbody>\n",
       "</table>\n",
       "</div>"
      ],
      "text/plain": [
       "  MONTH     DECADE  SIZE_HA_log CAUSE FIRE_TYPE ECOZONE  duration_days\n",
       "5     7  2010-2019            3     L       NaN       5             24\n",
       "6     7  2010-2019            0     L       NaN       5             17\n",
       "7     7  2010-2019            1     L       NaN       5             17\n",
       "8     7  2010-2019            0     L       NaN       6              3\n",
       "9     7  2010-2019            0     L       NaN       6              3"
      ]
     },
     "execution_count": 24,
     "metadata": {},
     "output_type": "execute_result"
    }
   ],
   "source": [
    "df_train.head()"
   ]
  },
  {
   "cell_type": "code",
   "execution_count": 52,
   "metadata": {},
   "outputs": [
    {
     "data": {
      "text/html": [
       "<div>\n",
       "<style scoped>\n",
       "    .dataframe tbody tr th:only-of-type {\n",
       "        vertical-align: middle;\n",
       "    }\n",
       "\n",
       "    .dataframe tbody tr th {\n",
       "        vertical-align: top;\n",
       "    }\n",
       "\n",
       "    .dataframe thead th {\n",
       "        text-align: right;\n",
       "    }\n",
       "</style>\n",
       "<table border=\"1\" class=\"dataframe\">\n",
       "  <thead>\n",
       "    <tr style=\"text-align: right;\">\n",
       "      <th></th>\n",
       "      <th>MONTH</th>\n",
       "      <th>DECADE</th>\n",
       "      <th>SIZE_HA</th>\n",
       "      <th>CAUSE</th>\n",
       "      <th>FIRE_TYPE</th>\n",
       "      <th>ECOZONE</th>\n",
       "      <th>duration_days</th>\n",
       "    </tr>\n",
       "  </thead>\n",
       "  <tbody>\n",
       "    <tr>\n",
       "      <th>5</th>\n",
       "      <td>7</td>\n",
       "      <td>2010-2019</td>\n",
       "      <td>1009.5</td>\n",
       "      <td>L</td>\n",
       "      <td>NaN</td>\n",
       "      <td>5</td>\n",
       "      <td>24</td>\n",
       "    </tr>\n",
       "    <tr>\n",
       "      <th>6</th>\n",
       "      <td>7</td>\n",
       "      <td>2010-2019</td>\n",
       "      <td>5.2</td>\n",
       "      <td>L</td>\n",
       "      <td>NaN</td>\n",
       "      <td>5</td>\n",
       "      <td>17</td>\n",
       "    </tr>\n",
       "    <tr>\n",
       "      <th>7</th>\n",
       "      <td>7</td>\n",
       "      <td>2010-2019</td>\n",
       "      <td>16.5</td>\n",
       "      <td>L</td>\n",
       "      <td>NaN</td>\n",
       "      <td>5</td>\n",
       "      <td>17</td>\n",
       "    </tr>\n",
       "    <tr>\n",
       "      <th>8</th>\n",
       "      <td>7</td>\n",
       "      <td>2010-2019</td>\n",
       "      <td>8.7</td>\n",
       "      <td>L</td>\n",
       "      <td>NaN</td>\n",
       "      <td>6</td>\n",
       "      <td>3</td>\n",
       "    </tr>\n",
       "    <tr>\n",
       "      <th>9</th>\n",
       "      <td>7</td>\n",
       "      <td>2010-2019</td>\n",
       "      <td>2.6</td>\n",
       "      <td>L</td>\n",
       "      <td>NaN</td>\n",
       "      <td>6</td>\n",
       "      <td>3</td>\n",
       "    </tr>\n",
       "  </tbody>\n",
       "</table>\n",
       "</div>"
      ],
      "text/plain": [
       "  MONTH     DECADE SIZE_HA CAUSE FIRE_TYPE ECOZONE  duration_days\n",
       "5     7  2010-2019  1009.5     L       NaN       5             24\n",
       "6     7  2010-2019     5.2     L       NaN       5             17\n",
       "7     7  2010-2019    16.5     L       NaN       5             17\n",
       "8     7  2010-2019     8.7     L       NaN       6              3\n",
       "9     7  2010-2019     2.6     L       NaN       6              3"
      ]
     },
     "execution_count": 52,
     "metadata": {},
     "output_type": "execute_result"
    }
   ],
   "source": [
    "df_train.head()"
   ]
  },
  {
   "cell_type": "code",
   "execution_count": 150,
   "metadata": {},
   "outputs": [
    {
     "name": "stdout",
     "output_type": "stream",
     "text": [
      "(208772, 8) (204376, 6)\n"
     ]
    }
   ],
   "source": [
    "df_test = df[(df['OUT_DATE'] == \"NaN\") | (df['REP_DATE'] == \"NaN\")]\n",
    "df_train = df[(df['OUT_DATE'] != \"NaN\") & (df['REP_DATE'] != \"NaN\")]\n",
    "df_test = df_test.drop(['OUT_DATE', 'REP_DATE'],axis = 1)\n",
    "\n",
    "print(df_train.shape, df_test.shape)"
   ]
  },
  {
   "cell_type": "code",
   "execution_count": 151,
   "metadata": {},
   "outputs": [
    {
     "name": "stderr",
     "output_type": "stream",
     "text": [
      "/Users/melika/anaconda3/envs/myenv/lib/python3.6/site-packages/ipykernel_launcher.py:2: SettingWithCopyWarning: \n",
      "A value is trying to be set on a copy of a slice from a DataFrame.\n",
      "Try using .loc[row_indexer,col_indexer] = value instead\n",
      "\n",
      "See the caveats in the documentation: https://pandas.pydata.org/pandas-docs/stable/user_guide/indexing.html#returning-a-view-versus-a-copy\n",
      "  \n"
     ]
    }
   ],
   "source": [
    "df_train[['REP_DATE','OUT_DATE']] = df_train[['REP_DATE','OUT_DATE']].apply(pd.to_datetime) #if conversion required\n",
    "df_train['duration_days'] = (df_train['OUT_DATE'] - df_train['REP_DATE']).dt.days\n",
    "df_train = df_train.drop(['OUT_DATE', 'REP_DATE'],axis = 1)\n",
    "\n",
    "#it's just warning. It's ok!"
   ]
  },
  {
   "cell_type": "code",
   "execution_count": 87,
   "metadata": {},
   "outputs": [
    {
     "data": {
      "text/html": [
       "<div>\n",
       "<style scoped>\n",
       "    .dataframe tbody tr th:only-of-type {\n",
       "        vertical-align: middle;\n",
       "    }\n",
       "\n",
       "    .dataframe tbody tr th {\n",
       "        vertical-align: top;\n",
       "    }\n",
       "\n",
       "    .dataframe thead th {\n",
       "        text-align: right;\n",
       "    }\n",
       "</style>\n",
       "<table border=\"1\" class=\"dataframe\">\n",
       "  <thead>\n",
       "    <tr style=\"text-align: right;\">\n",
       "      <th></th>\n",
       "      <th>MONTH</th>\n",
       "      <th>REP_DATE</th>\n",
       "      <th>OUT_DATE</th>\n",
       "      <th>DECADE</th>\n",
       "      <th>SIZE_HA_log</th>\n",
       "      <th>CAUSE</th>\n",
       "      <th>FIRE_TYPE</th>\n",
       "      <th>ECOZONE</th>\n",
       "    </tr>\n",
       "  </thead>\n",
       "  <tbody>\n",
       "    <tr>\n",
       "      <th>0</th>\n",
       "      <td>7</td>\n",
       "      <td>7/5/1970</td>\n",
       "      <td>NaN</td>\n",
       "      <td>1970-1979</td>\n",
       "      <td>3</td>\n",
       "      <td>H</td>\n",
       "      <td>NaN</td>\n",
       "      <td>5</td>\n",
       "    </tr>\n",
       "    <tr>\n",
       "      <th>1</th>\n",
       "      <td>6</td>\n",
       "      <td>6/18/1968</td>\n",
       "      <td>NaN</td>\n",
       "      <td>1960-1969</td>\n",
       "      <td>2</td>\n",
       "      <td>L</td>\n",
       "      <td>NaN</td>\n",
       "      <td>5</td>\n",
       "    </tr>\n",
       "    <tr>\n",
       "      <th>2</th>\n",
       "      <td>7</td>\n",
       "      <td>7/25/1967</td>\n",
       "      <td>NaN</td>\n",
       "      <td>1960-1969</td>\n",
       "      <td>2</td>\n",
       "      <td>L</td>\n",
       "      <td>NaN</td>\n",
       "      <td>5</td>\n",
       "    </tr>\n",
       "    <tr>\n",
       "      <th>3</th>\n",
       "      <td>6</td>\n",
       "      <td>6/29/1967</td>\n",
       "      <td>NaN</td>\n",
       "      <td>1960-1969</td>\n",
       "      <td>3</td>\n",
       "      <td>L</td>\n",
       "      <td>NaN</td>\n",
       "      <td>5</td>\n",
       "    </tr>\n",
       "    <tr>\n",
       "      <th>4</th>\n",
       "      <td>9</td>\n",
       "      <td>9/11/1967</td>\n",
       "      <td>NaN</td>\n",
       "      <td>1960-1969</td>\n",
       "      <td>3</td>\n",
       "      <td>L</td>\n",
       "      <td>NaN</td>\n",
       "      <td>5</td>\n",
       "    </tr>\n",
       "  </tbody>\n",
       "</table>\n",
       "</div>"
      ],
      "text/plain": [
       "  MONTH   REP_DATE OUT_DATE     DECADE  SIZE_HA_log CAUSE FIRE_TYPE ECOZONE\n",
       "0     7   7/5/1970      NaN  1970-1979            3     H       NaN       5\n",
       "1     6  6/18/1968      NaN  1960-1969            2     L       NaN       5\n",
       "2     7  7/25/1967      NaN  1960-1969            2     L       NaN       5\n",
       "3     6  6/29/1967      NaN  1960-1969            3     L       NaN       5\n",
       "4     9  9/11/1967      NaN  1960-1969            3     L       NaN       5"
      ]
     },
     "execution_count": 87,
     "metadata": {},
     "output_type": "execute_result"
    }
   ],
   "source": [
    "df.head()"
   ]
  },
  {
   "cell_type": "code",
   "execution_count": 152,
   "metadata": {},
   "outputs": [
    {
     "name": "stdout",
     "output_type": "stream",
     "text": [
      "(208772, 7)\n",
      "(203485, 7)\n"
     ]
    }
   ],
   "source": [
    "import matplotlib.pyplot as plt\n",
    "df_train['duration_days'] = pd.to_numeric(df_train['duration_days'])\n",
    "print(df_train.shape)\n",
    "sizes = df_train[(df_train[\"duration_days\"]<50)]\n",
    "\n",
    "#plt.hist(sizes)\n",
    "print(sizes.shape)"
   ]
  },
  {
   "cell_type": "code",
   "execution_count": 153,
   "metadata": {},
   "outputs": [],
   "source": [
    "#df.loc[df['duration_days'] < 0 , 'duration_days'] = -10 #Error\n",
    "df_train = df_train[~(df_train['duration_days'] < 0)] #remove error\n",
    "df_train.loc[df_train['duration_days'] > 10, 'duration_days'] = -1 #large\n",
    "df_train.loc[df_train['duration_days'] >= 0, 'duration_days'] = 0\n",
    "df_train.loc[df_train['duration_days'] == -1, 'duration_days'] = 1\n",
    "#df.loc[df['duration_days'] > 5, 'duration_days'] = -2 #Med\n",
    "#df.loc[df['duration_days'] > 2, 'duration_days'] = -3 #Med Low\n",
    "#df.loc[df['duration_days'] == 2, 'duration_days'] = 2 #2\n",
    "#df.loc[df['duration_days'] == 1, 'duration_days'] = 1 #1\n",
    "#df.loc[df['duration_days'] == 0, 'duration_days'] = 0 #0"
   ]
  },
  {
   "cell_type": "code",
   "execution_count": 14,
   "metadata": {},
   "outputs": [
    {
     "data": {
      "text/html": [
       "<div>\n",
       "<style scoped>\n",
       "    .dataframe tbody tr th:only-of-type {\n",
       "        vertical-align: middle;\n",
       "    }\n",
       "\n",
       "    .dataframe tbody tr th {\n",
       "        vertical-align: top;\n",
       "    }\n",
       "\n",
       "    .dataframe thead th {\n",
       "        text-align: right;\n",
       "    }\n",
       "</style>\n",
       "<table border=\"1\" class=\"dataframe\">\n",
       "  <thead>\n",
       "    <tr style=\"text-align: right;\">\n",
       "      <th></th>\n",
       "      <th>MONTH</th>\n",
       "      <th>REP_DATE</th>\n",
       "      <th>OUT_DATE</th>\n",
       "      <th>DECADE</th>\n",
       "      <th>SIZE_HA</th>\n",
       "      <th>CAUSE</th>\n",
       "      <th>FIRE_TYPE</th>\n",
       "      <th>ECOZONE</th>\n",
       "    </tr>\n",
       "  </thead>\n",
       "  <tbody>\n",
       "    <tr>\n",
       "      <th>0</th>\n",
       "      <td>7</td>\n",
       "      <td>7/5/1970</td>\n",
       "      <td>NaN</td>\n",
       "      <td>1970-1979</td>\n",
       "      <td>3</td>\n",
       "      <td>H</td>\n",
       "      <td>NaN</td>\n",
       "      <td>5</td>\n",
       "    </tr>\n",
       "    <tr>\n",
       "      <th>1</th>\n",
       "      <td>6</td>\n",
       "      <td>6/18/1968</td>\n",
       "      <td>NaN</td>\n",
       "      <td>1960-1969</td>\n",
       "      <td>2</td>\n",
       "      <td>L</td>\n",
       "      <td>NaN</td>\n",
       "      <td>5</td>\n",
       "    </tr>\n",
       "    <tr>\n",
       "      <th>2</th>\n",
       "      <td>7</td>\n",
       "      <td>7/25/1967</td>\n",
       "      <td>NaN</td>\n",
       "      <td>1960-1969</td>\n",
       "      <td>2</td>\n",
       "      <td>L</td>\n",
       "      <td>NaN</td>\n",
       "      <td>5</td>\n",
       "    </tr>\n",
       "    <tr>\n",
       "      <th>3</th>\n",
       "      <td>6</td>\n",
       "      <td>6/29/1967</td>\n",
       "      <td>NaN</td>\n",
       "      <td>1960-1969</td>\n",
       "      <td>3</td>\n",
       "      <td>L</td>\n",
       "      <td>NaN</td>\n",
       "      <td>5</td>\n",
       "    </tr>\n",
       "    <tr>\n",
       "      <th>4</th>\n",
       "      <td>9</td>\n",
       "      <td>9/11/1967</td>\n",
       "      <td>NaN</td>\n",
       "      <td>1960-1969</td>\n",
       "      <td>3</td>\n",
       "      <td>L</td>\n",
       "      <td>NaN</td>\n",
       "      <td>5</td>\n",
       "    </tr>\n",
       "  </tbody>\n",
       "</table>\n",
       "</div>"
      ],
      "text/plain": [
       "  MONTH   REP_DATE OUT_DATE     DECADE  SIZE_HA CAUSE FIRE_TYPE ECOZONE\n",
       "0     7   7/5/1970      NaN  1970-1979        3     H       NaN       5\n",
       "1     6  6/18/1968      NaN  1960-1969        2     L       NaN       5\n",
       "2     7  7/25/1967      NaN  1960-1969        2     L       NaN       5\n",
       "3     6  6/29/1967      NaN  1960-1969        3     L       NaN       5\n",
       "4     9  9/11/1967      NaN  1960-1969        3     L       NaN       5"
      ]
     },
     "execution_count": 14,
     "metadata": {},
     "output_type": "execute_result"
    }
   ],
   "source": [
    "df.head()"
   ]
  },
  {
   "cell_type": "code",
   "execution_count": 29,
   "metadata": {},
   "outputs": [],
   "source": [
    "df_test.to_csv(\"test_data.csv\")"
   ]
  },
  {
   "cell_type": "code",
   "execution_count": 17,
   "metadata": {},
   "outputs": [
    {
     "data": {
      "text/html": [
       "<div>\n",
       "<style scoped>\n",
       "    .dataframe tbody tr th:only-of-type {\n",
       "        vertical-align: middle;\n",
       "    }\n",
       "\n",
       "    .dataframe tbody tr th {\n",
       "        vertical-align: top;\n",
       "    }\n",
       "\n",
       "    .dataframe thead th {\n",
       "        text-align: right;\n",
       "    }\n",
       "</style>\n",
       "<table border=\"1\" class=\"dataframe\">\n",
       "  <thead>\n",
       "    <tr style=\"text-align: right;\">\n",
       "      <th></th>\n",
       "      <th>REP_DATE</th>\n",
       "      <th>OUT_DATE</th>\n",
       "      <th>SIZE_HA_log</th>\n",
       "      <th>ECOZONE</th>\n",
       "      <th>month_0</th>\n",
       "      <th>month_1</th>\n",
       "      <th>month_10</th>\n",
       "      <th>month_11</th>\n",
       "      <th>month_12</th>\n",
       "      <th>month_2</th>\n",
       "      <th>...</th>\n",
       "      <th>Prescribed Burn</th>\n",
       "      <th>Req For Assist</th>\n",
       "      <th>Request For Ass*</th>\n",
       "      <th>Surface</th>\n",
       "      <th>Type 1</th>\n",
       "      <th>Type 2</th>\n",
       "      <th>Type 3</th>\n",
       "      <th>Type 4</th>\n",
       "      <th>Type 5</th>\n",
       "      <th>Wildfire</th>\n",
       "    </tr>\n",
       "  </thead>\n",
       "  <tbody>\n",
       "    <tr>\n",
       "      <th>5</th>\n",
       "      <td>7/27/2019</td>\n",
       "      <td>8/20/2019</td>\n",
       "      <td>3</td>\n",
       "      <td>5</td>\n",
       "      <td>0</td>\n",
       "      <td>0</td>\n",
       "      <td>0</td>\n",
       "      <td>0</td>\n",
       "      <td>0</td>\n",
       "      <td>0</td>\n",
       "      <td>...</td>\n",
       "      <td>0</td>\n",
       "      <td>0</td>\n",
       "      <td>0</td>\n",
       "      <td>0</td>\n",
       "      <td>0</td>\n",
       "      <td>0</td>\n",
       "      <td>0</td>\n",
       "      <td>0</td>\n",
       "      <td>0</td>\n",
       "      <td>0</td>\n",
       "    </tr>\n",
       "    <tr>\n",
       "      <th>6</th>\n",
       "      <td>7/27/2019</td>\n",
       "      <td>8/13/2019</td>\n",
       "      <td>0</td>\n",
       "      <td>5</td>\n",
       "      <td>0</td>\n",
       "      <td>0</td>\n",
       "      <td>0</td>\n",
       "      <td>0</td>\n",
       "      <td>0</td>\n",
       "      <td>0</td>\n",
       "      <td>...</td>\n",
       "      <td>0</td>\n",
       "      <td>0</td>\n",
       "      <td>0</td>\n",
       "      <td>0</td>\n",
       "      <td>0</td>\n",
       "      <td>0</td>\n",
       "      <td>0</td>\n",
       "      <td>0</td>\n",
       "      <td>0</td>\n",
       "      <td>0</td>\n",
       "    </tr>\n",
       "    <tr>\n",
       "      <th>7</th>\n",
       "      <td>7/27/2019</td>\n",
       "      <td>8/13/2019</td>\n",
       "      <td>1</td>\n",
       "      <td>5</td>\n",
       "      <td>0</td>\n",
       "      <td>0</td>\n",
       "      <td>0</td>\n",
       "      <td>0</td>\n",
       "      <td>0</td>\n",
       "      <td>0</td>\n",
       "      <td>...</td>\n",
       "      <td>0</td>\n",
       "      <td>0</td>\n",
       "      <td>0</td>\n",
       "      <td>0</td>\n",
       "      <td>0</td>\n",
       "      <td>0</td>\n",
       "      <td>0</td>\n",
       "      <td>0</td>\n",
       "      <td>0</td>\n",
       "      <td>0</td>\n",
       "    </tr>\n",
       "    <tr>\n",
       "      <th>8</th>\n",
       "      <td>7/27/2019</td>\n",
       "      <td>7/30/2019</td>\n",
       "      <td>0</td>\n",
       "      <td>6</td>\n",
       "      <td>0</td>\n",
       "      <td>0</td>\n",
       "      <td>0</td>\n",
       "      <td>0</td>\n",
       "      <td>0</td>\n",
       "      <td>0</td>\n",
       "      <td>...</td>\n",
       "      <td>0</td>\n",
       "      <td>0</td>\n",
       "      <td>0</td>\n",
       "      <td>0</td>\n",
       "      <td>0</td>\n",
       "      <td>0</td>\n",
       "      <td>0</td>\n",
       "      <td>0</td>\n",
       "      <td>0</td>\n",
       "      <td>0</td>\n",
       "    </tr>\n",
       "    <tr>\n",
       "      <th>9</th>\n",
       "      <td>7/27/2019</td>\n",
       "      <td>7/30/2019</td>\n",
       "      <td>0</td>\n",
       "      <td>6</td>\n",
       "      <td>0</td>\n",
       "      <td>0</td>\n",
       "      <td>0</td>\n",
       "      <td>0</td>\n",
       "      <td>0</td>\n",
       "      <td>0</td>\n",
       "      <td>...</td>\n",
       "      <td>0</td>\n",
       "      <td>0</td>\n",
       "      <td>0</td>\n",
       "      <td>0</td>\n",
       "      <td>0</td>\n",
       "      <td>0</td>\n",
       "      <td>0</td>\n",
       "      <td>0</td>\n",
       "      <td>0</td>\n",
       "      <td>0</td>\n",
       "    </tr>\n",
       "  </tbody>\n",
       "</table>\n",
       "<p>5 rows × 57 columns</p>\n",
       "</div>"
      ],
      "text/plain": [
       "    REP_DATE   OUT_DATE  SIZE_HA_log ECOZONE  month_0  month_1  month_10  \\\n",
       "5  7/27/2019  8/20/2019            3       5        0        0         0   \n",
       "6  7/27/2019  8/13/2019            0       5        0        0         0   \n",
       "7  7/27/2019  8/13/2019            1       5        0        0         0   \n",
       "8  7/27/2019  7/30/2019            0       6        0        0         0   \n",
       "9  7/27/2019  7/30/2019            0       6        0        0         0   \n",
       "\n",
       "   month_11  month_12  month_2  ...  Prescribed Burn  Req For Assist  \\\n",
       "5         0         0        0  ...                0               0   \n",
       "6         0         0        0  ...                0               0   \n",
       "7         0         0        0  ...                0               0   \n",
       "8         0         0        0  ...                0               0   \n",
       "9         0         0        0  ...                0               0   \n",
       "\n",
       "   Request For Ass*  Surface  Type 1  Type 2  Type 3  Type 4  Type 5  Wildfire  \n",
       "5                 0        0       0       0       0       0       0         0  \n",
       "6                 0        0       0       0       0       0       0         0  \n",
       "7                 0        0       0       0       0       0       0         0  \n",
       "8                 0        0       0       0       0       0       0         0  \n",
       "9                 0        0       0       0       0       0       0         0  \n",
       "\n",
       "[5 rows x 57 columns]"
      ]
     },
     "execution_count": 17,
     "metadata": {},
     "output_type": "execute_result"
    }
   ],
   "source": [
    "df_train.head()"
   ]
  },
  {
   "cell_type": "code",
   "execution_count": 104,
   "metadata": {},
   "outputs": [
    {
     "data": {
      "text/html": [
       "<div>\n",
       "<style scoped>\n",
       "    .dataframe tbody tr th:only-of-type {\n",
       "        vertical-align: middle;\n",
       "    }\n",
       "\n",
       "    .dataframe tbody tr th {\n",
       "        vertical-align: top;\n",
       "    }\n",
       "\n",
       "    .dataframe thead th {\n",
       "        text-align: right;\n",
       "    }\n",
       "</style>\n",
       "<table border=\"1\" class=\"dataframe\">\n",
       "  <thead>\n",
       "    <tr style=\"text-align: right;\">\n",
       "      <th></th>\n",
       "      <th>MONTH</th>\n",
       "      <th>DECADE</th>\n",
       "      <th>SIZE_HA_log</th>\n",
       "      <th>CAUSE</th>\n",
       "      <th>FIRE_TYPE</th>\n",
       "      <th>ECOZONE</th>\n",
       "      <th>duration days greater than 10 days</th>\n",
       "    </tr>\n",
       "  </thead>\n",
       "  <tbody>\n",
       "    <tr>\n",
       "      <th>5</th>\n",
       "      <td>7</td>\n",
       "      <td>2010s</td>\n",
       "      <td>3</td>\n",
       "      <td>L</td>\n",
       "      <td>NaN</td>\n",
       "      <td>5</td>\n",
       "      <td>1</td>\n",
       "    </tr>\n",
       "    <tr>\n",
       "      <th>6</th>\n",
       "      <td>7</td>\n",
       "      <td>2010s</td>\n",
       "      <td>0</td>\n",
       "      <td>L</td>\n",
       "      <td>NaN</td>\n",
       "      <td>5</td>\n",
       "      <td>1</td>\n",
       "    </tr>\n",
       "    <tr>\n",
       "      <th>7</th>\n",
       "      <td>7</td>\n",
       "      <td>2010s</td>\n",
       "      <td>1</td>\n",
       "      <td>L</td>\n",
       "      <td>NaN</td>\n",
       "      <td>5</td>\n",
       "      <td>1</td>\n",
       "    </tr>\n",
       "    <tr>\n",
       "      <th>8</th>\n",
       "      <td>7</td>\n",
       "      <td>2010s</td>\n",
       "      <td>0</td>\n",
       "      <td>L</td>\n",
       "      <td>NaN</td>\n",
       "      <td>6</td>\n",
       "      <td>0</td>\n",
       "    </tr>\n",
       "    <tr>\n",
       "      <th>9</th>\n",
       "      <td>7</td>\n",
       "      <td>2010s</td>\n",
       "      <td>0</td>\n",
       "      <td>L</td>\n",
       "      <td>NaN</td>\n",
       "      <td>6</td>\n",
       "      <td>0</td>\n",
       "    </tr>\n",
       "  </tbody>\n",
       "</table>\n",
       "</div>"
      ],
      "text/plain": [
       "  MONTH DECADE  SIZE_HA_log CAUSE FIRE_TYPE ECOZONE  \\\n",
       "5     7  2010s            3     L       NaN       5   \n",
       "6     7  2010s            0     L       NaN       5   \n",
       "7     7  2010s            1     L       NaN       5   \n",
       "8     7  2010s            0     L       NaN       6   \n",
       "9     7  2010s            0     L       NaN       6   \n",
       "\n",
       "   duration days greater than 10 days  \n",
       "5                                   1  \n",
       "6                                   1  \n",
       "7                                   1  \n",
       "8                                   0  \n",
       "9                                   0  "
      ]
     },
     "execution_count": 104,
     "metadata": {},
     "output_type": "execute_result"
    }
   ],
   "source": [
    "df_train.head()"
   ]
  },
  {
   "cell_type": "code",
   "execution_count": 140,
   "metadata": {},
   "outputs": [
    {
     "name": "stdout",
     "output_type": "stream",
     "text": [
      "       MONTH     DECADE  SIZE_HA_log CAUSE FIRE_TYPE ECOZONE  duration_days\n",
      "5          7  2010-2019            3     L       NaN       5             24\n",
      "6          7  2010-2019            0     L       NaN       5             17\n",
      "7          7  2010-2019            1     L       NaN       5             17\n",
      "8          7  2010-2019            0     L       NaN       6              3\n",
      "9          7  2010-2019            0     L       NaN       6              3\n",
      "...      ...        ...          ...   ...       ...     ...            ...\n",
      "409302     8  1990-1999            0     L       NaN       4              2\n",
      "409304     7  2010-2019            2     L       NaN       4             23\n",
      "409305     6  2010-2019            3     L       NaN       4             28\n",
      "409306     6  2010-2019            2     L       NaN       4             27\n",
      "409308     6  2010-2019            0     L       NaN       4             14\n",
      "\n",
      "[203005 rows x 7 columns]\n"
     ]
    }
   ],
   "source": [
    "print(commutes)"
   ]
  },
  {
   "cell_type": "code",
   "execution_count": 141,
   "metadata": {},
   "outputs": [
    {
     "data": {
      "image/png": "[encoded data removed]",
      "text/plain": [
       "<Figure size 432x288 with 1 Axes>"
      ]
     },
     "metadata": {
      "needs_background": "light"
     },
     "output_type": "display_data"
    }
   ],
   "source": [
    "import pandas as pd\n",
    "import matplotlib.pyplot as plt\n",
    "\n",
    "# Generate data on commute times.\n",
    "size, scale = 10, 10\n",
    "commutes = df_train[(df_train['duration_days']>=0) & (df_train['duration_days']<50) ]['duration_days']# & (df_train['duration_days']<50)]\n",
    "\n",
    "commutes.plot.hist(grid=False, bins=25, rwidth=0.5,\n",
    "                   color='#458B74')\n",
    "#plt.title('Histogram of duration days for less than 50 days')\n",
    "plt.xlabel('Duration Days')\n",
    "plt.ylabel('Counts')\n",
    "plt.grid(axis='y', alpha=1)\n",
    "plt.savefig('days11.png')\n"
   ]
  },
  {
   "cell_type": "code",
   "execution_count": 132,
   "metadata": {},
   "outputs": [
    {
     "data": {
      "text/plain": [
       "5         24\n",
       "6         17\n",
       "7         17\n",
       "8          3\n",
       "9          3\n",
       "          ..\n",
       "409304    23\n",
       "409305    28\n",
       "409306    27\n",
       "409307    50\n",
       "409308    14\n",
       "Name: duration_days, Length: 208292, dtype: int64"
      ]
     },
     "execution_count": 132,
     "metadata": {},
     "output_type": "execute_result"
    }
   ],
   "source": [
    "commutes = df_train[(df_train['duration_days']>=0)]\n",
    "new_df = commutes\n",
    "#XX= new_df['duration_days']\n",
    "new_df['duration_days']"
   ]
  },
  {
   "cell_type": "code",
   "execution_count": 27,
   "metadata": {},
   "outputs": [],
   "source": [
    "\n",
    "stats_df = new_df \\\n",
    ".groupby('duration_days') \\\n",
    "['duration_days'] \\\n",
    ".agg('count') \\\n",
    ".pipe(pd.DataFrame) \\\n",
    ".rename(columns = {'duration_days': 'frequency'})"
   ]
  },
  {
   "cell_type": "code",
   "execution_count": 28,
   "metadata": {},
   "outputs": [
    {
     "data": {
      "text/html": [
       "<div>\n",
       "<style scoped>\n",
       "    .dataframe tbody tr th:only-of-type {\n",
       "        vertical-align: middle;\n",
       "    }\n",
       "\n",
       "    .dataframe tbody tr th {\n",
       "        vertical-align: top;\n",
       "    }\n",
       "\n",
       "    .dataframe thead th {\n",
       "        text-align: right;\n",
       "    }\n",
       "</style>\n",
       "<table border=\"1\" class=\"dataframe\">\n",
       "  <thead>\n",
       "    <tr style=\"text-align: right;\">\n",
       "      <th></th>\n",
       "      <th>duration_days</th>\n",
       "      <th>frequency</th>\n",
       "      <th>pdf</th>\n",
       "      <th>cdf</th>\n",
       "    </tr>\n",
       "  </thead>\n",
       "  <tbody>\n",
       "    <tr>\n",
       "      <th>0</th>\n",
       "      <td>0</td>\n",
       "      <td>56959</td>\n",
       "      <td>0.273524</td>\n",
       "      <td>56959</td>\n",
       "    </tr>\n",
       "    <tr>\n",
       "      <th>1</th>\n",
       "      <td>1</td>\n",
       "      <td>47161</td>\n",
       "      <td>0.226473</td>\n",
       "      <td>104120</td>\n",
       "    </tr>\n",
       "    <tr>\n",
       "      <th>2</th>\n",
       "      <td>2</td>\n",
       "      <td>26917</td>\n",
       "      <td>0.129259</td>\n",
       "      <td>131037</td>\n",
       "    </tr>\n",
       "    <tr>\n",
       "      <th>3</th>\n",
       "      <td>3</td>\n",
       "      <td>16887</td>\n",
       "      <td>0.081094</td>\n",
       "      <td>147924</td>\n",
       "    </tr>\n",
       "    <tr>\n",
       "      <th>4</th>\n",
       "      <td>4</td>\n",
       "      <td>11223</td>\n",
       "      <td>0.053894</td>\n",
       "      <td>159147</td>\n",
       "    </tr>\n",
       "    <tr>\n",
       "      <th>...</th>\n",
       "      <td>...</td>\n",
       "      <td>...</td>\n",
       "      <td>...</td>\n",
       "      <td>...</td>\n",
       "    </tr>\n",
       "    <tr>\n",
       "      <th>253</th>\n",
       "      <td>286</td>\n",
       "      <td>1</td>\n",
       "      <td>0.000005</td>\n",
       "      <td>208236</td>\n",
       "    </tr>\n",
       "    <tr>\n",
       "      <th>254</th>\n",
       "      <td>287</td>\n",
       "      <td>1</td>\n",
       "      <td>0.000005</td>\n",
       "      <td>208237</td>\n",
       "    </tr>\n",
       "    <tr>\n",
       "      <th>255</th>\n",
       "      <td>288</td>\n",
       "      <td>1</td>\n",
       "      <td>0.000005</td>\n",
       "      <td>208238</td>\n",
       "    </tr>\n",
       "    <tr>\n",
       "      <th>256</th>\n",
       "      <td>291</td>\n",
       "      <td>2</td>\n",
       "      <td>0.000010</td>\n",
       "      <td>208240</td>\n",
       "    </tr>\n",
       "    <tr>\n",
       "      <th>257</th>\n",
       "      <td>293</td>\n",
       "      <td>1</td>\n",
       "      <td>0.000005</td>\n",
       "      <td>208241</td>\n",
       "    </tr>\n",
       "  </tbody>\n",
       "</table>\n",
       "<p>258 rows × 4 columns</p>\n",
       "</div>"
      ],
      "text/plain": [
       "     duration_days  frequency       pdf     cdf\n",
       "0                0      56959  0.273524   56959\n",
       "1                1      47161  0.226473  104120\n",
       "2                2      26917  0.129259  131037\n",
       "3                3      16887  0.081094  147924\n",
       "4                4      11223  0.053894  159147\n",
       "..             ...        ...       ...     ...\n",
       "253            286          1  0.000005  208236\n",
       "254            287          1  0.000005  208237\n",
       "255            288          1  0.000005  208238\n",
       "256            291          2  0.000010  208240\n",
       "257            293          1  0.000005  208241\n",
       "\n",
       "[258 rows x 4 columns]"
      ]
     },
     "execution_count": 28,
     "metadata": {},
     "output_type": "execute_result"
    }
   ],
   "source": [
    "stats_df['pdf'] = stats_df['frequency'] / sum(stats_df['frequency'])\n",
    "\n",
    "# CDF\n",
    "stats_df['cdf'] = stats_df['frequency'].cumsum()\n",
    "stats_df = stats_df.reset_index()\n",
    "stats_df"
   ]
  },
  {
   "cell_type": "code",
   "execution_count": 138,
   "metadata": {},
   "outputs": [
    {
     "data": {
      "image/png": "[encoded data removed]",
      "text/plain": [
       "<Figure size 432x288 with 1 Axes>"
      ]
     },
     "metadata": {
      "needs_background": "light"
     },
     "output_type": "display_data"
    }
   ],
   "source": [
    "#stats_df.plot.bar(x = 'duration_days', y = ['cdf'], grid = False)\n",
    "\n",
    "#bins = [0,0.1,0.2,0.3, 0.4, 0.5, 0.6, 0.7, 0.8, 0.9, 1]\n",
    "#df2 = stats_df.groupby(pd.cut(stats_df['cdf'], bins=bins)).cdf.count()\n",
    "#df2.plot(kind='bar')\n",
    "import numpy as np\n",
    "new_df = new_df[new_df['duration_days'] < 50]\n",
    "count, bins_count = np.histogram(new_df['duration_days'], bins=50)\n",
    "  \n",
    "# finding the PDF of the histogram using count values\n",
    "pdf = count / sum(count)\n",
    "  \n",
    "# using numpy np.cumsum to calculate the CDF\n",
    "# We can also find using the PDF values by looping and adding\n",
    "cdf = np.cumsum(count)\n",
    "plt.xlabel(\"duration days\")\n",
    "plt.ylabel(\"frequency\")\n",
    "# plotting PDF and CDF\n",
    "#plt.plot(bins_count[1:], pdf, color=\"red\", label=\"PDF\")\n",
    "plt.plot(bins_count[1:], cdf, label=\"cumulative duration days\", color='#458B74')\n",
    "plt.legend()\n",
    "plt.savefig(\"dur.png\")"
   ]
  },
  {
   "cell_type": "code",
   "execution_count": 65,
   "metadata": {},
   "outputs": [],
   "source": [
    "#commutes = commutes.map({'1940-1949': '1940s', '1950-1959': '1950s', '1960-1969': '1960s', '1970-1979':'1970s',\n",
    "#                              '1980-1989': '1980s', '1990-1999':'1990s', '2000-2009':'2000s',\n",
    "#                              '2010-2019':'2010s', '2020-2029':'2020s', '2020-2019':'NaN'\n",
    "#                              })\n",
    "\n",
    "df_train['DECADE'] = df_train['DECADE'].map({'1940-1949': '1940s', '1950-1959': '1950s', '1960-1969': '1960s', '1970-1979':'1970s',\n",
    "                              '1980-1989': '1980s', '1990-1999':'1990s', '2000-2009':'2000s',\n",
    "                              '2010-2019':'2010s', '2020-2029':'2020s', '2020-2019':'NaN'\n",
    "                              })"
   ]
  },
  {
   "cell_type": "code",
   "execution_count": 100,
   "metadata": {},
   "outputs": [],
   "source": [
    "#commutes = df_train['MONTH'].astype(int)\n",
    "commutes = df_train['CAUSE']\n"
   ]
  },
  {
   "cell_type": "code",
   "execution_count": 69,
   "metadata": {},
   "outputs": [
    {
     "data": {
      "text/html": [
       "<div>\n",
       "<style scoped>\n",
       "    .dataframe tbody tr th:only-of-type {\n",
       "        vertical-align: middle;\n",
       "    }\n",
       "\n",
       "    .dataframe tbody tr th {\n",
       "        vertical-align: top;\n",
       "    }\n",
       "\n",
       "    .dataframe thead th {\n",
       "        text-align: right;\n",
       "    }\n",
       "</style>\n",
       "<table border=\"1\" class=\"dataframe\">\n",
       "  <thead>\n",
       "    <tr style=\"text-align: right;\">\n",
       "      <th></th>\n",
       "      <th>MONTH</th>\n",
       "      <th>DECADE</th>\n",
       "      <th>SIZE_HA_log</th>\n",
       "      <th>CAUSE</th>\n",
       "      <th>FIRE_TYPE</th>\n",
       "      <th>ECOZONE</th>\n",
       "      <th>duration_days</th>\n",
       "    </tr>\n",
       "  </thead>\n",
       "  <tbody>\n",
       "    <tr>\n",
       "      <th>5</th>\n",
       "      <td>7</td>\n",
       "      <td>2010s</td>\n",
       "      <td>3</td>\n",
       "      <td>L</td>\n",
       "      <td>NaN</td>\n",
       "      <td>5</td>\n",
       "      <td>1</td>\n",
       "    </tr>\n",
       "    <tr>\n",
       "      <th>6</th>\n",
       "      <td>7</td>\n",
       "      <td>2010s</td>\n",
       "      <td>0</td>\n",
       "      <td>L</td>\n",
       "      <td>NaN</td>\n",
       "      <td>5</td>\n",
       "      <td>1</td>\n",
       "    </tr>\n",
       "    <tr>\n",
       "      <th>7</th>\n",
       "      <td>7</td>\n",
       "      <td>2010s</td>\n",
       "      <td>1</td>\n",
       "      <td>L</td>\n",
       "      <td>NaN</td>\n",
       "      <td>5</td>\n",
       "      <td>1</td>\n",
       "    </tr>\n",
       "    <tr>\n",
       "      <th>8</th>\n",
       "      <td>7</td>\n",
       "      <td>2010s</td>\n",
       "      <td>0</td>\n",
       "      <td>L</td>\n",
       "      <td>NaN</td>\n",
       "      <td>6</td>\n",
       "      <td>0</td>\n",
       "    </tr>\n",
       "    <tr>\n",
       "      <th>9</th>\n",
       "      <td>7</td>\n",
       "      <td>2010s</td>\n",
       "      <td>0</td>\n",
       "      <td>L</td>\n",
       "      <td>NaN</td>\n",
       "      <td>6</td>\n",
       "      <td>0</td>\n",
       "    </tr>\n",
       "    <tr>\n",
       "      <th>...</th>\n",
       "      <td>...</td>\n",
       "      <td>...</td>\n",
       "      <td>...</td>\n",
       "      <td>...</td>\n",
       "      <td>...</td>\n",
       "      <td>...</td>\n",
       "      <td>...</td>\n",
       "    </tr>\n",
       "    <tr>\n",
       "      <th>409304</th>\n",
       "      <td>7</td>\n",
       "      <td>2010s</td>\n",
       "      <td>2</td>\n",
       "      <td>L</td>\n",
       "      <td>NaN</td>\n",
       "      <td>4</td>\n",
       "      <td>1</td>\n",
       "    </tr>\n",
       "    <tr>\n",
       "      <th>409305</th>\n",
       "      <td>6</td>\n",
       "      <td>2010s</td>\n",
       "      <td>3</td>\n",
       "      <td>L</td>\n",
       "      <td>NaN</td>\n",
       "      <td>4</td>\n",
       "      <td>1</td>\n",
       "    </tr>\n",
       "    <tr>\n",
       "      <th>409306</th>\n",
       "      <td>6</td>\n",
       "      <td>2010s</td>\n",
       "      <td>2</td>\n",
       "      <td>L</td>\n",
       "      <td>NaN</td>\n",
       "      <td>4</td>\n",
       "      <td>1</td>\n",
       "    </tr>\n",
       "    <tr>\n",
       "      <th>409307</th>\n",
       "      <td>7</td>\n",
       "      <td>2010s</td>\n",
       "      <td>0</td>\n",
       "      <td>L</td>\n",
       "      <td>NaN</td>\n",
       "      <td>4</td>\n",
       "      <td>1</td>\n",
       "    </tr>\n",
       "    <tr>\n",
       "      <th>409308</th>\n",
       "      <td>6</td>\n",
       "      <td>2010s</td>\n",
       "      <td>0</td>\n",
       "      <td>L</td>\n",
       "      <td>NaN</td>\n",
       "      <td>4</td>\n",
       "      <td>1</td>\n",
       "    </tr>\n",
       "  </tbody>\n",
       "</table>\n",
       "<p>207831 rows × 7 columns</p>\n",
       "</div>"
      ],
      "text/plain": [
       "       MONTH DECADE  SIZE_HA_log CAUSE FIRE_TYPE ECOZONE  duration_days\n",
       "5          7  2010s            3     L       NaN       5              1\n",
       "6          7  2010s            0     L       NaN       5              1\n",
       "7          7  2010s            1     L       NaN       5              1\n",
       "8          7  2010s            0     L       NaN       6              0\n",
       "9          7  2010s            0     L       NaN       6              0\n",
       "...      ...    ...          ...   ...       ...     ...            ...\n",
       "409304     7  2010s            2     L       NaN       4              1\n",
       "409305     6  2010s            3     L       NaN       4              1\n",
       "409306     6  2010s            2     L       NaN       4              1\n",
       "409307     7  2010s            0     L       NaN       4              1\n",
       "409308     6  2010s            0     L       NaN       4              1\n",
       "\n",
       "[207831 rows x 7 columns]"
      ]
     },
     "execution_count": 69,
     "metadata": {},
     "output_type": "execute_result"
    }
   ],
   "source": [
    "g"
   ]
  },
  {
   "cell_type": "raw",
   "metadata": {},
   "source": []
  },
  {
   "cell_type": "code",
   "execution_count": 137,
   "metadata": {},
   "outputs": [
    {
     "name": "stdout",
     "output_type": "stream",
     "text": [
      "{0: 56959, 1: 47161, 2: 26917, 3: 16887, 4: 11223, 5: 7861, 6: 5710, 7: 4224, 8: 3266, 9: 2631, 10: 2007, 11: 1630, 12: 1419, 13: 1109, 14: 1064, 15: 922, 16: 883, 17: 715, 18: 655, 19: 598, 20: 581, 21: 537, 22: 473, 23: 454, 24: 430, 25: 437, 26: 356, 27: 346, 28: 338, 29: 318, 30: 378, 31: 418, 32: 354, 33: 312, 34: 286, 35: 289, 36: 277, 37: 240, 38: 277, 39: 258, 40: 194, 41: 211, 42: 201, 43: 198, 44: 181, 45: 190, 46: 162, 47: 175, 48: 143, 49: 150}\n"
     ]
    },
    {
     "data": {
      "image/png": "[encoded data removed]",
      "text/plain": [
       "<Figure size 576x360 with 1 Axes>"
      ]
     },
     "metadata": {
      "needs_background": "light"
     },
     "output_type": "display_data"
    }
   ],
   "source": [
    "from collections import Counter\n",
    "commutes = new_df[new_df['duration_days'] < 50]['duration_days']\n",
    "\n",
    "\n",
    "\n",
    "letter_counts = Counter(commutes)\n",
    "letter_counts = dict(sorted(letter_counts.items()))\n",
    "print(letter_counts)\n",
    "dffff = pd.DataFrame.from_dict(letter_counts, orient='index')\n",
    "\n",
    "\n",
    "\n",
    "fig = dffff.plot(kind='bar',width=0.,  color='#53767B', \n",
    "        figsize=(8, 5), fontsize=10, grid = False)\n",
    "\n",
    "fig.set_xlabel(\"Fire Cause\")\n",
    "fig.set_ylabel(\"Number of Instances\")\n",
    "\n",
    "fig = fig.get_figure()\n",
    "fig.savefig('cause.png')\n",
    "#dffff.plot(kind='bar', color='#53868B')\n",
    "\n"
   ]
  },
  {
   "cell_type": "code",
   "execution_count": 118,
   "metadata": {},
   "outputs": [
    {
     "name": "stdout",
     "output_type": "stream",
     "text": [
      "        0\n",
      "1     329\n",
      "2     279\n",
      "3    1299\n",
      "4   18358\n",
      "5   44155\n",
      "6   41622\n",
      "7   47057\n",
      "8   37380\n",
      "9   11790\n",
      "10   4475\n",
      "11   1247\n",
      "12    301\n"
     ]
    }
   ],
   "source": [
    "from collections import Counter\n",
    "\n",
    "\n",
    "import pandas as pd\n",
    "import matplotlib.pyplot as plt\n",
    "\n",
    "# Generate data on commute times.\n",
    "size, scale = 10, 10\n",
    "commutes = df_train['MONTH'].astype(int)\n",
    "letter_counts = Counter(commutes)\n",
    "letter_counts = dict(sorted(letter_counts.items()))\n",
    "dffff = pd.DataFrame.from_dict(letter_counts, orient='index')\n",
    "print(dffff)\n",
    "fig = dffff.plot(kind='bar',width=0.3,  color='#53767B',  grid = True,\n",
    "#        figsize=(8, 5), fontsize=10).get_figure()#plt.xlabel('Duration Days')\n",
    "#plt.ylabel('Counts')\n",
    "#plt.grid(axis='y', alpha=1)\n",
    "#plt.savefig('days2.png')\n",
    "#fig.savefig('size.png')\n",
    "\n"
   ]
  },
  {
   "cell_type": "code",
   "execution_count": 53,
   "metadata": {},
   "outputs": [
    {
     "name": "stdout",
     "output_type": "stream",
     "text": [
      "185286\n"
     ]
    }
   ],
   "source": [
    "import pandas as pd\n",
    "import matplotlib.pyplot as plt\n",
    "\n",
    "# Generate data on commute times.\n",
    "size, scale = 10, 10\n",
    "x = sorted(list(df_train['SIZE_HA']))\n",
    "dd = [float(a) for a in x]\n",
    "res = []\n",
    "for g in dd:\n",
    "    if g < 10:\n",
    "        res.append(g)\n",
    "\n",
    "print(len(res))        \n",
    "#import numpy as np\n",
    "#import seaborn as sns\n",
    "#sns.set_style('whitegrid')\n",
    "\n",
    "#fig = sns.kdeplot(np.array(res), bw=0.5,  color='#53767B').get_figure()\n",
    "#fig.savefig(\"size2.png\") "
   ]
  },
  {
   "cell_type": "code",
   "execution_count": 84,
   "metadata": {},
   "outputs": [
    {
     "name": "stdout",
     "output_type": "stream",
     "text": [
      "       MONTH DECADE  SIZE_HA_log CAUSE FIRE_TYPE ECOZONE  \\\n",
      "5          7  2010s            3     L       NaN       5   \n",
      "6          7  2010s            0     L       NaN       5   \n",
      "7          7  2010s            1     L       NaN       5   \n",
      "8          7  2010s            0     L       NaN       6   \n",
      "9          7  2010s            0     L       NaN       6   \n",
      "...      ...    ...          ...   ...       ...     ...   \n",
      "409304     7  2010s            2     L       NaN       4   \n",
      "409305     6  2010s            3     L       NaN       4   \n",
      "409306     6  2010s            2     L       NaN       4   \n",
      "409307     7  2010s            0     L       NaN       4   \n",
      "409308     6  2010s            0     L       NaN       4   \n",
      "\n",
      "        duration days greater than 10 days  \n",
      "5                                        1  \n",
      "6                                        1  \n",
      "7                                        1  \n",
      "8                                        0  \n",
      "9                                        0  \n",
      "...                                    ...  \n",
      "409304                                   1  \n",
      "409305                                   1  \n",
      "409306                                   1  \n",
      "409307                                   1  \n",
      "409308                                   1  \n",
      "\n",
      "[208292 rows x 7 columns]\n"
     ]
    }
   ],
   "source": [
    "print(h)"
   ]
  },
  {
   "cell_type": "code",
   "execution_count": 156,
   "metadata": {},
   "outputs": [
    {
     "name": "stdout",
     "output_type": "stream",
     "text": [
      "SEASON                              1)WINTER  2)SPRING  3)SUMMER    4)FALL\n",
      "duration days greater than 10 days                                        \n",
      "0                                   0.002645  0.323291  0.589053  0.085011\n",
      "1                                   0.017914  0.172865  0.732534  0.076687\n"
     ]
    },
    {
     "data": {
      "image/png": "[encoded data removed]",
      "text/plain": [
       "<Figure size 432x288 with 1 Axes>"
      ]
     },
     "metadata": {
      "needs_background": "light"
     },
     "output_type": "display_data"
    }
   ],
   "source": [
    "#################################################\n",
    "# Cross tabulation between GENDER and APPROVE_LOAN\n",
    "h = df_train\n",
    "h.columns = h.columns.str.replace('duration_days', 'duration days greater than 10 days')\n",
    "\n",
    "CrosstabResult=pd.crosstab(index=h['duration days greater than 10 days'],columns=h['SEASON'], normalize='index')\n",
    "print(CrosstabResult)\n",
    "\n",
    "\n",
    "# Grouped bar chart between GENDER and APPROVE_LOAN\n",
    "fig = CrosstabResult.plot.bar()\n",
    "fig.set_xlabel(\"SEASON\")\n",
    "fig.set_ylabel(\"Probability\")\n",
    "fig.figure.savefig('normalses.png')"
   ]
  },
  {
   "cell_type": "code",
   "execution_count": 126,
   "metadata": {},
   "outputs": [
    {
     "data": {
      "text/html": [
       "<div>\n",
       "<style scoped>\n",
       "    .dataframe tbody tr th:only-of-type {\n",
       "        vertical-align: middle;\n",
       "    }\n",
       "\n",
       "    .dataframe tbody tr th {\n",
       "        vertical-align: top;\n",
       "    }\n",
       "\n",
       "    .dataframe thead th {\n",
       "        text-align: right;\n",
       "    }\n",
       "</style>\n",
       "<table border=\"1\" class=\"dataframe\">\n",
       "  <thead>\n",
       "    <tr style=\"text-align: right;\">\n",
       "      <th></th>\n",
       "      <th>MONTH</th>\n",
       "      <th>DECADE</th>\n",
       "      <th>SIZE_HA_log</th>\n",
       "      <th>CAUSE</th>\n",
       "      <th>FIRE_TYPE</th>\n",
       "      <th>ECOZONE</th>\n",
       "      <th>duration days greater than 10 days</th>\n",
       "      <th>SEASON</th>\n",
       "    </tr>\n",
       "  </thead>\n",
       "  <tbody>\n",
       "    <tr>\n",
       "      <th>5</th>\n",
       "      <td>7</td>\n",
       "      <td>2010s</td>\n",
       "      <td>3</td>\n",
       "      <td>L</td>\n",
       "      <td>NaN</td>\n",
       "      <td>5</td>\n",
       "      <td>1</td>\n",
       "      <td>3)SUMMER</td>\n",
       "    </tr>\n",
       "    <tr>\n",
       "      <th>6</th>\n",
       "      <td>7</td>\n",
       "      <td>2010s</td>\n",
       "      <td>0</td>\n",
       "      <td>L</td>\n",
       "      <td>NaN</td>\n",
       "      <td>5</td>\n",
       "      <td>1</td>\n",
       "      <td>3)SUMMER</td>\n",
       "    </tr>\n",
       "    <tr>\n",
       "      <th>7</th>\n",
       "      <td>7</td>\n",
       "      <td>2010s</td>\n",
       "      <td>1</td>\n",
       "      <td>L</td>\n",
       "      <td>NaN</td>\n",
       "      <td>5</td>\n",
       "      <td>1</td>\n",
       "      <td>3)SUMMER</td>\n",
       "    </tr>\n",
       "    <tr>\n",
       "      <th>8</th>\n",
       "      <td>7</td>\n",
       "      <td>2010s</td>\n",
       "      <td>0</td>\n",
       "      <td>L</td>\n",
       "      <td>NaN</td>\n",
       "      <td>6</td>\n",
       "      <td>0</td>\n",
       "      <td>3)SUMMER</td>\n",
       "    </tr>\n",
       "    <tr>\n",
       "      <th>9</th>\n",
       "      <td>7</td>\n",
       "      <td>2010s</td>\n",
       "      <td>0</td>\n",
       "      <td>L</td>\n",
       "      <td>NaN</td>\n",
       "      <td>6</td>\n",
       "      <td>0</td>\n",
       "      <td>3)SUMMER</td>\n",
       "    </tr>\n",
       "  </tbody>\n",
       "</table>\n",
       "</div>"
      ],
      "text/plain": [
       "  MONTH DECADE  SIZE_HA_log CAUSE FIRE_TYPE ECOZONE  \\\n",
       "5     7  2010s            3     L       NaN       5   \n",
       "6     7  2010s            0     L       NaN       5   \n",
       "7     7  2010s            1     L       NaN       5   \n",
       "8     7  2010s            0     L       NaN       6   \n",
       "9     7  2010s            0     L       NaN       6   \n",
       "\n",
       "   duration days greater than 10 days    SEASON  \n",
       "5                                   1  3)SUMMER  \n",
       "6                                   1  3)SUMMER  \n",
       "7                                   1  3)SUMMER  \n",
       "8                                   0  3)SUMMER  \n",
       "9                                   0  3)SUMMER  "
      ]
     },
     "execution_count": 126,
     "metadata": {},
     "output_type": "execute_result"
    }
   ],
   "source": [
    "df_train.head()"
   ]
  },
  {
   "cell_type": "code",
   "execution_count": 133,
   "metadata": {},
   "outputs": [
    {
     "name": "stdout",
     "output_type": "stream",
     "text": [
      "CAUSE                                      H      H-PB         L       NaN  \\\n",
      "duration days greater than 10 days                                           \n",
      "0                                   0.593624  0.000227  0.386592  0.000481   \n",
      "1                                   0.262305  0.001791  0.727587  0.001578   \n",
      "\n",
      "CAUSE                                     RE         U  \n",
      "duration days greater than 10 days                      \n",
      "0                                   0.000346  0.018729  \n",
      "1                                   0.000427  0.006312  \n"
     ]
    },
    {
     "data": {
      "image/png": "[encoded data removed]",
      "text/plain": [
       "<Figure size 432x288 with 1 Axes>"
      ]
     },
     "metadata": {
      "needs_background": "light"
     },
     "output_type": "display_data"
    }
   ],
   "source": [
    "\n",
    "CrosstabResult=pd.crosstab(index=df_train['duration days greater than 10 days'],columns=df_train['SEASON'], normalize='index')\n",
    "print(CrosstabResult)\n",
    "\n",
    "# Grouped bar chart between GENDER and APPROVE_LOAN\n",
    "fig = CrosstabResult.plot.bar()\n",
    "fig.figure.savefig('normalized_cause.png')"
   ]
  },
  {
   "cell_type": "code",
   "execution_count": 155,
   "metadata": {},
   "outputs": [],
   "source": [
    "def normalise_row(row):\n",
    "    if row['MONTH'] == '5' or row['MONTH'] == '4' or  row['MONTH'] == '3':\n",
    "        return \"2)SPRING\"\n",
    "\n",
    "    if row['MONTH'] == '12' or row['MONTH'] == '1' or  row['MONTH'] == '2':\n",
    "        return \"1)WINTER\"\n",
    "\n",
    "\n",
    "    if row['MONTH'] == '6' or row['MONTH'] == '7' or  row['MONTH'] == '8':\n",
    "        return \"3)SUMMER\"\n",
    "\n",
    "\n",
    "    if row['MONTH'] == '11' or row['MONTH'] == '10' or  row['MONTH'] == '9':\n",
    "        return \"4)FALL\"\n",
    "\n",
    "\n",
    "\n",
    "df_train['SEASON'] = df_train.apply(lambda row : normalise_row(row), axis=1) "
   ]
  },
  {
   "cell_type": "code",
   "execution_count": 40,
   "metadata": {},
   "outputs": [
    {
     "data": {
      "text/plain": [
       "MONTH            object\n",
       "DECADE           object\n",
       "SIZE_HA_log       int64\n",
       "CAUSE            object\n",
       "FIRE_TYPE        object\n",
       "ECOZONE          object\n",
       "duration_days     int64\n",
       "SEASON           object\n",
       "dtype: object"
      ]
     },
     "execution_count": 40,
     "metadata": {},
     "output_type": "execute_result"
    }
   ],
   "source": [
    "df_train.dtypes"
   ]
  },
  {
   "cell_type": "code",
   "execution_count": 139,
   "metadata": {},
   "outputs": [
    {
     "ename": "KeyError",
     "evalue": "\"None of [Index(['7', '7', '7', '7', '7', '6', '6', '6', '6', '6',\\n       ...\\n       '6', '6', '6', '8', '7', '7', '6', '6', '7', '6'],\\n      dtype='object', length=208292)] are in the [columns]\"",
     "output_type": "error",
     "traceback": [
      "\u001b[0;31m---------------------------------------------------------------------------\u001b[0m",
      "\u001b[0;31mKeyError\u001b[0m                                  Traceback (most recent call last)",
      "\u001b[0;32m<ipython-input-139-27697be64e8d>\u001b[0m in \u001b[0;36m<module>\u001b[0;34m\u001b[0m\n\u001b[0;32m----> 1\u001b[0;31m \u001b[0mcommutes\u001b[0m \u001b[0;34m=\u001b[0m \u001b[0mdf_train\u001b[0m\u001b[0;34m[\u001b[0m\u001b[0;34m(\u001b[0m\u001b[0mdf_train\u001b[0m\u001b[0;34m[\u001b[0m\u001b[0;34m'MONTH'\u001b[0m\u001b[0;34m]\u001b[0m\u001b[0;34m)\u001b[0m\u001b[0;34m]\u001b[0m\u001b[0;31m# & (df_train['duration_days']<50)]\u001b[0m\u001b[0;34m\u001b[0m\u001b[0;34m\u001b[0m\u001b[0m\n\u001b[0m\u001b[1;32m      2\u001b[0m \u001b[0;34m\u001b[0m\u001b[0m\n",
      "\u001b[0;32m~/anaconda3/envs/myenv/lib/python3.6/site-packages/pandas/core/frame.py\u001b[0m in \u001b[0;36m__getitem__\u001b[0;34m(self, key)\u001b[0m\n\u001b[1;32m   2910\u001b[0m             \u001b[0;32mif\u001b[0m \u001b[0mis_iterator\u001b[0m\u001b[0;34m(\u001b[0m\u001b[0mkey\u001b[0m\u001b[0;34m)\u001b[0m\u001b[0;34m:\u001b[0m\u001b[0;34m\u001b[0m\u001b[0;34m\u001b[0m\u001b[0m\n\u001b[1;32m   2911\u001b[0m                 \u001b[0mkey\u001b[0m \u001b[0;34m=\u001b[0m \u001b[0mlist\u001b[0m\u001b[0;34m(\u001b[0m\u001b[0mkey\u001b[0m\u001b[0;34m)\u001b[0m\u001b[0;34m\u001b[0m\u001b[0;34m\u001b[0m\u001b[0m\n\u001b[0;32m-> 2912\u001b[0;31m             \u001b[0mindexer\u001b[0m \u001b[0;34m=\u001b[0m \u001b[0mself\u001b[0m\u001b[0;34m.\u001b[0m\u001b[0mloc\u001b[0m\u001b[0;34m.\u001b[0m\u001b[0m_get_listlike_indexer\u001b[0m\u001b[0;34m(\u001b[0m\u001b[0mkey\u001b[0m\u001b[0;34m,\u001b[0m \u001b[0maxis\u001b[0m\u001b[0;34m=\u001b[0m\u001b[0;36m1\u001b[0m\u001b[0;34m,\u001b[0m \u001b[0mraise_missing\u001b[0m\u001b[0;34m=\u001b[0m\u001b[0;32mTrue\u001b[0m\u001b[0;34m)\u001b[0m\u001b[0;34m[\u001b[0m\u001b[0;36m1\u001b[0m\u001b[0;34m]\u001b[0m\u001b[0;34m\u001b[0m\u001b[0;34m\u001b[0m\u001b[0m\n\u001b[0m\u001b[1;32m   2913\u001b[0m \u001b[0;34m\u001b[0m\u001b[0m\n\u001b[1;32m   2914\u001b[0m         \u001b[0;31m# take() does not accept boolean indexers\u001b[0m\u001b[0;34m\u001b[0m\u001b[0;34m\u001b[0m\u001b[0;34m\u001b[0m\u001b[0m\n",
      "\u001b[0;32m~/anaconda3/envs/myenv/lib/python3.6/site-packages/pandas/core/indexing.py\u001b[0m in \u001b[0;36m_get_listlike_indexer\u001b[0;34m(self, key, axis, raise_missing)\u001b[0m\n\u001b[1;32m   1252\u001b[0m             \u001b[0mkeyarr\u001b[0m\u001b[0;34m,\u001b[0m \u001b[0mindexer\u001b[0m\u001b[0;34m,\u001b[0m \u001b[0mnew_indexer\u001b[0m \u001b[0;34m=\u001b[0m \u001b[0max\u001b[0m\u001b[0;34m.\u001b[0m\u001b[0m_reindex_non_unique\u001b[0m\u001b[0;34m(\u001b[0m\u001b[0mkeyarr\u001b[0m\u001b[0;34m)\u001b[0m\u001b[0;34m\u001b[0m\u001b[0;34m\u001b[0m\u001b[0m\n\u001b[1;32m   1253\u001b[0m \u001b[0;34m\u001b[0m\u001b[0m\n\u001b[0;32m-> 1254\u001b[0;31m         \u001b[0mself\u001b[0m\u001b[0;34m.\u001b[0m\u001b[0m_validate_read_indexer\u001b[0m\u001b[0;34m(\u001b[0m\u001b[0mkeyarr\u001b[0m\u001b[0;34m,\u001b[0m \u001b[0mindexer\u001b[0m\u001b[0;34m,\u001b[0m \u001b[0maxis\u001b[0m\u001b[0;34m,\u001b[0m \u001b[0mraise_missing\u001b[0m\u001b[0;34m=\u001b[0m\u001b[0mraise_missing\u001b[0m\u001b[0;34m)\u001b[0m\u001b[0;34m\u001b[0m\u001b[0;34m\u001b[0m\u001b[0m\n\u001b[0m\u001b[1;32m   1255\u001b[0m         \u001b[0;32mreturn\u001b[0m \u001b[0mkeyarr\u001b[0m\u001b[0;34m,\u001b[0m \u001b[0mindexer\u001b[0m\u001b[0;34m\u001b[0m\u001b[0;34m\u001b[0m\u001b[0m\n\u001b[1;32m   1256\u001b[0m \u001b[0;34m\u001b[0m\u001b[0m\n",
      "\u001b[0;32m~/anaconda3/envs/myenv/lib/python3.6/site-packages/pandas/core/indexing.py\u001b[0m in \u001b[0;36m_validate_read_indexer\u001b[0;34m(self, key, indexer, axis, raise_missing)\u001b[0m\n\u001b[1;32m   1296\u001b[0m             \u001b[0;32mif\u001b[0m \u001b[0mmissing\u001b[0m \u001b[0;34m==\u001b[0m \u001b[0mlen\u001b[0m\u001b[0;34m(\u001b[0m\u001b[0mindexer\u001b[0m\u001b[0;34m)\u001b[0m\u001b[0;34m:\u001b[0m\u001b[0;34m\u001b[0m\u001b[0;34m\u001b[0m\u001b[0m\n\u001b[1;32m   1297\u001b[0m                 \u001b[0maxis_name\u001b[0m \u001b[0;34m=\u001b[0m \u001b[0mself\u001b[0m\u001b[0;34m.\u001b[0m\u001b[0mobj\u001b[0m\u001b[0;34m.\u001b[0m\u001b[0m_get_axis_name\u001b[0m\u001b[0;34m(\u001b[0m\u001b[0maxis\u001b[0m\u001b[0;34m)\u001b[0m\u001b[0;34m\u001b[0m\u001b[0;34m\u001b[0m\u001b[0m\n\u001b[0;32m-> 1298\u001b[0;31m                 \u001b[0;32mraise\u001b[0m \u001b[0mKeyError\u001b[0m\u001b[0;34m(\u001b[0m\u001b[0;34mf\"None of [{key}] are in the [{axis_name}]\"\u001b[0m\u001b[0;34m)\u001b[0m\u001b[0;34m\u001b[0m\u001b[0;34m\u001b[0m\u001b[0m\n\u001b[0m\u001b[1;32m   1299\u001b[0m \u001b[0;34m\u001b[0m\u001b[0m\n\u001b[1;32m   1300\u001b[0m             \u001b[0;31m# We (temporarily) allow for some missing keys with .loc, except in\u001b[0m\u001b[0;34m\u001b[0m\u001b[0;34m\u001b[0m\u001b[0;34m\u001b[0m\u001b[0m\n",
      "\u001b[0;31mKeyError\u001b[0m: \"None of [Index(['7', '7', '7', '7', '7', '6', '6', '6', '6', '6',\\n       ...\\n       '6', '6', '6', '8', '7', '7', '6', '6', '7', '6'],\\n      dtype='object', length=208292)] are in the [columns]\""
     ]
    }
   ],
   "source": [
    "commutes = df_train[(df_train['MONTH'])]# & (df_train['duration_days']<50)]\n",
    "\n"
   ]
  },
  {
   "cell_type": "code",
   "execution_count": 146,
   "metadata": {},
   "outputs": [
    {
     "data": {
      "text/html": [
       "<div>\n",
       "<style scoped>\n",
       "    .dataframe tbody tr th:only-of-type {\n",
       "        vertical-align: middle;\n",
       "    }\n",
       "\n",
       "    .dataframe tbody tr th {\n",
       "        vertical-align: top;\n",
       "    }\n",
       "\n",
       "    .dataframe thead th {\n",
       "        text-align: right;\n",
       "    }\n",
       "</style>\n",
       "<table border=\"1\" class=\"dataframe\">\n",
       "  <thead>\n",
       "    <tr style=\"text-align: right;\">\n",
       "      <th></th>\n",
       "      <th>MONTH</th>\n",
       "      <th>DECADE</th>\n",
       "      <th>SIZE_HA_log</th>\n",
       "      <th>CAUSE</th>\n",
       "      <th>FIRE_TYPE</th>\n",
       "      <th>ECOZONE</th>\n",
       "      <th>duration days greater than 10 days</th>\n",
       "      <th>SEASON</th>\n",
       "    </tr>\n",
       "  </thead>\n",
       "  <tbody>\n",
       "    <tr>\n",
       "      <th>5</th>\n",
       "      <td>7</td>\n",
       "      <td>2010-2019</td>\n",
       "      <td>3</td>\n",
       "      <td>L</td>\n",
       "      <td>NaN</td>\n",
       "      <td>5</td>\n",
       "      <td>24</td>\n",
       "      <td>3)SUMMER</td>\n",
       "    </tr>\n",
       "    <tr>\n",
       "      <th>6</th>\n",
       "      <td>7</td>\n",
       "      <td>2010-2019</td>\n",
       "      <td>0</td>\n",
       "      <td>L</td>\n",
       "      <td>NaN</td>\n",
       "      <td>5</td>\n",
       "      <td>17</td>\n",
       "      <td>3)SUMMER</td>\n",
       "    </tr>\n",
       "    <tr>\n",
       "      <th>7</th>\n",
       "      <td>7</td>\n",
       "      <td>2010-2019</td>\n",
       "      <td>1</td>\n",
       "      <td>L</td>\n",
       "      <td>NaN</td>\n",
       "      <td>5</td>\n",
       "      <td>17</td>\n",
       "      <td>3)SUMMER</td>\n",
       "    </tr>\n",
       "    <tr>\n",
       "      <th>8</th>\n",
       "      <td>7</td>\n",
       "      <td>2010-2019</td>\n",
       "      <td>0</td>\n",
       "      <td>L</td>\n",
       "      <td>NaN</td>\n",
       "      <td>6</td>\n",
       "      <td>3</td>\n",
       "      <td>3)SUMMER</td>\n",
       "    </tr>\n",
       "    <tr>\n",
       "      <th>9</th>\n",
       "      <td>7</td>\n",
       "      <td>2010-2019</td>\n",
       "      <td>0</td>\n",
       "      <td>L</td>\n",
       "      <td>NaN</td>\n",
       "      <td>6</td>\n",
       "      <td>3</td>\n",
       "      <td>3)SUMMER</td>\n",
       "    </tr>\n",
       "  </tbody>\n",
       "</table>\n",
       "</div>"
      ],
      "text/plain": [
       "  MONTH     DECADE  SIZE_HA_log CAUSE FIRE_TYPE ECOZONE  \\\n",
       "5     7  2010-2019            3     L       NaN       5   \n",
       "6     7  2010-2019            0     L       NaN       5   \n",
       "7     7  2010-2019            1     L       NaN       5   \n",
       "8     7  2010-2019            0     L       NaN       6   \n",
       "9     7  2010-2019            0     L       NaN       6   \n",
       "\n",
       "   duration days greater than 10 days    SEASON  \n",
       "5                                  24  3)SUMMER  \n",
       "6                                  17  3)SUMMER  \n",
       "7                                  17  3)SUMMER  \n",
       "8                                   3  3)SUMMER  \n",
       "9                                   3  3)SUMMER  "
      ]
     },
     "execution_count": 146,
     "metadata": {},
     "output_type": "execute_result"
    }
   ],
   "source": [
    "df_train.head()"
   ]
  },
  {
   "cell_type": "code",
   "execution_count": 143,
   "metadata": {},
   "outputs": [
    {
     "data": {
      "text/plain": [
       "<AxesSubplot:ylabel='Frequency'>"
      ]
     },
     "execution_count": 143,
     "metadata": {},
     "output_type": "execute_result"
    },
    {
     "data": {
      "image/png": "[encoded data removed]",
      "text/plain": [
       "<Figure size 432x288 with 1 Axes>"
      ]
     },
     "metadata": {
      "needs_background": "light"
     },
     "output_type": "display_data"
    }
   ],
   "source": [
    "import pandas as pd\n",
    "import matplotlib.pyplot as plt\n",
    "\n",
    "# Generate data on commute times.\n",
    "size, scale = 10, 10\n",
    "commutes = df_train['SIZE_HA_log']# & (df_train['duration_days']<50)]\n",
    "\n",
    "commutes.plot.hist(grid=False, bins=25, rwidth=0.5,\n",
    "                   color='#458B74')\n",
    "#plt.title('Histogram of duration days for less than 50 days')\n",
    "#new_df = commutes['SIZE_HA_log']\n"
   ]
  },
  {
   "cell_type": "code",
   "execution_count": 146,
   "metadata": {},
   "outputs": [
    {
     "data": {
      "image/png": "[encoded data removed]",
      "text/plain": [
       "<Figure size 432x288 with 1 Axes>"
      ]
     },
     "metadata": {
      "needs_background": "light"
     },
     "output_type": "display_data"
    }
   ],
   "source": [
    "#stats_df.plot.bar(x = 'duration_days', y = ['cdf'], grid = False)\n",
    "\n",
    "#bins = [0,0.1,0.2,0.3, 0.4, 0.5, 0.6, 0.7, 0.8, 0.9, 1]\n",
    "#df2 = stats_df.groupby(pd.cut(stats_df['cdf'], bins=bins)).cdf.count()\n",
    "#df2.plot(kind='bar')\n",
    "import numpy as np\n",
    "count, bins_count = np.histogram(commutes, bins=50)\n",
    "  \n",
    "# finding the PDF of the histogram using count values\n",
    "pdf = count / sum(count)\n",
    "  \n",
    "# using numpy np.cumsum to calculate the CDF\n",
    "# We can also find using the PDF values by looping and adding\n",
    "cdf = np.cumsum(count)\n",
    "  \n",
    "# plotting PDF and CDF\n",
    "#plt.plot(bins_count[1:], pdf, color=\"red\", label=\"PDF\")\n",
    "plt.plot(bins_count[1:], cdf, label=\"cumulative size of firess\", color='#458B74')\n",
    "plt.legend()\n",
    "plt.savefig(\"cum_size.png\")"
   ]
  },
  {
   "cell_type": "code",
   "execution_count": 23,
   "metadata": {},
   "outputs": [],
   "source": [
    "import pandas as pd\n",
    "fp = \"/Users/melika/Documents/MScProject/FireData/run_all/results.csv\"\n",
    "df = pd.read_csv(fp, names=['source', 'target', 'cp', 'd', 'od', 'count', 'total', 'd-ratio'], header=None)\n"
   ]
  },
  {
   "cell_type": "code",
   "execution_count": 21,
   "metadata": {},
   "outputs": [
    {
     "data": {
      "text/html": [
       "<div>\n",
       "<style scoped>\n",
       "    .dataframe tbody tr th:only-of-type {\n",
       "        vertical-align: middle;\n",
       "    }\n",
       "\n",
       "    .dataframe tbody tr th {\n",
       "        vertical-align: top;\n",
       "    }\n",
       "\n",
       "    .dataframe thead th {\n",
       "        text-align: right;\n",
       "    }\n",
       "</style>\n",
       "<table border=\"1\" class=\"dataframe\">\n",
       "  <thead>\n",
       "    <tr style=\"text-align: right;\">\n",
       "      <th></th>\n",
       "      <th>id</th>\n",
       "      <th>source</th>\n",
       "      <th>target</th>\n",
       "      <th>cp</th>\n",
       "      <th>d</th>\n",
       "      <th>od</th>\n",
       "      <th>count</th>\n",
       "      <th>total</th>\n",
       "      <th>d-ratio</th>\n",
       "    </tr>\n",
       "  </thead>\n",
       "  <tbody>\n",
       "    <tr>\n",
       "      <th>0</th>\n",
       "      <td>9</td>\n",
       "      <td>10</td>\n",
       "      <td>0.157834</td>\n",
       "      <td>0.236034</td>\n",
       "      <td>0.236034</td>\n",
       "      <td>151</td>\n",
       "      <td>47835</td>\n",
       "      <td>0.003157</td>\n",
       "      <td>NaN</td>\n",
       "    </tr>\n",
       "    <tr>\n",
       "      <th>1</th>\n",
       "      <td>6</td>\n",
       "      <td>14</td>\n",
       "      <td>0.052378</td>\n",
       "      <td>0.038115</td>\n",
       "      <td>0.038115</td>\n",
       "      <td>0</td>\n",
       "      <td>174465</td>\n",
       "      <td>0.000000</td>\n",
       "      <td>NaN</td>\n",
       "    </tr>\n",
       "    <tr>\n",
       "      <th>2</th>\n",
       "      <td>14</td>\n",
       "      <td>12</td>\n",
       "      <td>3.734340</td>\n",
       "      <td>1.924744</td>\n",
       "      <td>2.096228</td>\n",
       "      <td>1695</td>\n",
       "      <td>57150</td>\n",
       "      <td>0.029659</td>\n",
       "      <td>NaN</td>\n",
       "    </tr>\n",
       "    <tr>\n",
       "      <th>3</th>\n",
       "      <td>12</td>\n",
       "      <td>4</td>\n",
       "      <td>1.363488</td>\n",
       "      <td>1.424627</td>\n",
       "      <td>1.388935</td>\n",
       "      <td>0</td>\n",
       "      <td>378810</td>\n",
       "      <td>0.000000</td>\n",
       "      <td>NaN</td>\n",
       "    </tr>\n",
       "    <tr>\n",
       "      <th>4</th>\n",
       "      <td>5</td>\n",
       "      <td>9</td>\n",
       "      <td>1.152865</td>\n",
       "      <td>0.540953</td>\n",
       "      <td>0.708577</td>\n",
       "      <td>0</td>\n",
       "      <td>2440665</td>\n",
       "      <td>0.000000</td>\n",
       "      <td>NaN</td>\n",
       "    </tr>\n",
       "  </tbody>\n",
       "</table>\n",
       "</div>"
      ],
      "text/plain": [
       "   id  source    target        cp         d    od    count     total  d-ratio\n",
       "0   9      10  0.157834  0.236034  0.236034   151    47835  0.003157      NaN\n",
       "1   6      14  0.052378  0.038115  0.038115     0   174465  0.000000      NaN\n",
       "2  14      12  3.734340  1.924744  2.096228  1695    57150  0.029659      NaN\n",
       "3  12       4  1.363488  1.424627  1.388935     0   378810  0.000000      NaN\n",
       "4   5       9  1.152865  0.540953  0.708577     0  2440665  0.000000      NaN"
      ]
     },
     "execution_count": 21,
     "metadata": {},
     "output_type": "execute_result"
    }
   ],
   "source": [
    "df.head()"
   ]
  },
  {
   "cell_type": "code",
   "execution_count": 25,
   "metadata": {},
   "outputs": [
    {
     "data": {
      "image/png": "[encoded data removed]",
      "text/plain": [
       "<Figure size 432x288 with 1 Axes>"
      ]
     },
     "metadata": {
      "needs_background": "light"
     },
     "output_type": "display_data"
    },
    {
     "data": {
      "image/png": "[encoded data removed]",
      "text/plain": [
       "<Figure size 432x288 with 1 Axes>"
      ]
     },
     "metadata": {
      "needs_background": "light"
     },
     "output_type": "display_data"
    }
   ],
   "source": [
    "df.plot.scatter(x='cp',\n",
    "                 y='od',\n",
    "                   c='DarkBlue')\n"
   ]
  },
  {
   "cell_type": "code",
   "execution_count": 26,
   "metadata": {},
   "outputs": [
    {
     "data": {
      "text/plain": [
       "[<matplotlib.lines.Line2D at 0x7fee28513cf8>]"
      ]
     },
     "execution_count": 26,
     "metadata": {},
     "output_type": "execute_result"
    }
   ],
   "source": [
    "import matplotlib.pyplot as plt\n",
    "\n",
    "\n",
    "import numpy as np\n",
    "lims = [\n",
    "    np.min([ax.get_xlim(), ax.get_ylim()]),  # min of both axes\n",
    "    np.max([ax.get_xlim(), ax.get_ylim()]),  # max of both axes\n",
    "]\n",
    "\n",
    "# now plot both limits against eachother\n",
    "ax.plot(lims, lims, 'k-', alpha=0.75, zorder=0)\n"
   ]
  },
  {
   "cell_type": "code",
   "execution_count": 29,
   "metadata": {},
   "outputs": [],
   "source": [
    "df['ind'] = df.index "
   ]
  },
  {
   "cell_type": "code",
   "execution_count": 31,
   "metadata": {},
   "outputs": [
    {
     "data": {
      "text/html": [
       "<div>\n",
       "<style scoped>\n",
       "    .dataframe tbody tr th:only-of-type {\n",
       "        vertical-align: middle;\n",
       "    }\n",
       "\n",
       "    .dataframe tbody tr th {\n",
       "        vertical-align: top;\n",
       "    }\n",
       "\n",
       "    .dataframe thead th {\n",
       "        text-align: right;\n",
       "    }\n",
       "</style>\n",
       "<table border=\"1\" class=\"dataframe\">\n",
       "  <thead>\n",
       "    <tr style=\"text-align: right;\">\n",
       "      <th></th>\n",
       "      <th>source</th>\n",
       "      <th>target</th>\n",
       "      <th>cp</th>\n",
       "      <th>d</th>\n",
       "      <th>od</th>\n",
       "      <th>count</th>\n",
       "      <th>total</th>\n",
       "      <th>d-ratio</th>\n",
       "      <th>ind</th>\n",
       "    </tr>\n",
       "  </thead>\n",
       "  <tbody>\n",
       "    <tr>\n",
       "      <th>0</th>\n",
       "      <td>9</td>\n",
       "      <td>10</td>\n",
       "      <td>0.157834</td>\n",
       "      <td>0.236034</td>\n",
       "      <td>0.236034</td>\n",
       "      <td>151</td>\n",
       "      <td>47835</td>\n",
       "      <td>0.003157</td>\n",
       "      <td>0</td>\n",
       "    </tr>\n",
       "    <tr>\n",
       "      <th>1</th>\n",
       "      <td>6</td>\n",
       "      <td>14</td>\n",
       "      <td>0.052378</td>\n",
       "      <td>0.038115</td>\n",
       "      <td>0.038115</td>\n",
       "      <td>0</td>\n",
       "      <td>174465</td>\n",
       "      <td>0.000000</td>\n",
       "      <td>1</td>\n",
       "    </tr>\n",
       "    <tr>\n",
       "      <th>2</th>\n",
       "      <td>14</td>\n",
       "      <td>12</td>\n",
       "      <td>3.734340</td>\n",
       "      <td>1.924744</td>\n",
       "      <td>2.096228</td>\n",
       "      <td>1695</td>\n",
       "      <td>57150</td>\n",
       "      <td>0.029659</td>\n",
       "      <td>2</td>\n",
       "    </tr>\n",
       "    <tr>\n",
       "      <th>3</th>\n",
       "      <td>12</td>\n",
       "      <td>4</td>\n",
       "      <td>1.363488</td>\n",
       "      <td>1.424627</td>\n",
       "      <td>1.388935</td>\n",
       "      <td>0</td>\n",
       "      <td>378810</td>\n",
       "      <td>0.000000</td>\n",
       "      <td>3</td>\n",
       "    </tr>\n",
       "    <tr>\n",
       "      <th>4</th>\n",
       "      <td>5</td>\n",
       "      <td>9</td>\n",
       "      <td>1.152865</td>\n",
       "      <td>0.540953</td>\n",
       "      <td>0.708577</td>\n",
       "      <td>0</td>\n",
       "      <td>2440665</td>\n",
       "      <td>0.000000</td>\n",
       "      <td>4</td>\n",
       "    </tr>\n",
       "  </tbody>\n",
       "</table>\n",
       "</div>"
      ],
      "text/plain": [
       "   source  target        cp         d        od  count    total   d-ratio  ind\n",
       "0       9      10  0.157834  0.236034  0.236034    151    47835  0.003157    0\n",
       "1       6      14  0.052378  0.038115  0.038115      0   174465  0.000000    1\n",
       "2      14      12  3.734340  1.924744  2.096228   1695    57150  0.029659    2\n",
       "3      12       4  1.363488  1.424627  1.388935      0   378810  0.000000    3\n",
       "4       5       9  1.152865  0.540953  0.708577      0  2440665  0.000000    4"
      ]
     },
     "execution_count": 31,
     "metadata": {},
     "output_type": "execute_result"
    }
   ],
   "source": [
    "df.head()"
   ]
  },
  {
   "cell_type": "code",
   "execution_count": 33,
   "metadata": {},
   "outputs": [
    {
     "data": {
      "text/plain": [
       "<AxesSubplot:xlabel='cp', ylabel='od'>"
      ]
     },
     "execution_count": 33,
     "metadata": {},
     "output_type": "execute_result"
    },
    {
     "data": {
      "image/png": "[encoded data removed]",
      "text/plain": [
       "<Figure size 432x288 with 1 Axes>"
      ]
     },
     "metadata": {
      "needs_background": "light"
     },
     "output_type": "display_data"
    },
    {
     "data": {
      "image/png": "[encoded data removed]",
      "text/plain": [
       "<Figure size 432x288 with 1 Axes>"
      ]
     },
     "metadata": {
      "needs_background": "light"
     },
     "output_type": "display_data"
    }
   ],
   "source": [
    "df['ind'].plot.line()\n",
    "df.plot.scatter(x='cp',\n",
    "                 y='od',\n",
    "                   c='DarkBlue')\n",
    "\n"
   ]
  },
  {
   "cell_type": "code",
   "execution_count": 35,
   "metadata": {},
   "outputs": [
    {
     "ename": "AttributeError",
     "evalue": "'function' object has no attribute 'scatter'",
     "output_type": "error",
     "traceback": [
      "\u001b[0;31m---------------------------------------------------------------------------\u001b[0m",
      "\u001b[0;31mAttributeError\u001b[0m                            Traceback (most recent call last)",
      "\u001b[0;32m<ipython-input-35-c2c0a985b912>\u001b[0m in \u001b[0;36m<module>\u001b[0;34m\u001b[0m\n\u001b[0;32m----> 1\u001b[0;31m \u001b[0mplt\u001b[0m\u001b[0;34m.\u001b[0m\u001b[0mplot\u001b[0m\u001b[0;34m.\u001b[0m\u001b[0mscatter\u001b[0m\u001b[0;34m(\u001b[0m\u001b[0mdf\u001b[0m\u001b[0;34m[\u001b[0m\u001b[0;34m'cp'\u001b[0m\u001b[0;34m]\u001b[0m\u001b[0;34m,\u001b[0m \u001b[0mdf\u001b[0m\u001b[0;34m[\u001b[0m\u001b[0;34m'od'\u001b[0m\u001b[0;34m]\u001b[0m\u001b[0;34m,\u001b[0m \u001b[0mlabel\u001b[0m\u001b[0;34m=\u001b[0m\u001b[0;34m'A'\u001b[0m\u001b[0;34m,\u001b[0m \u001b[0mcolor\u001b[0m\u001b[0;34m=\u001b[0m\u001b[0;34m'green'\u001b[0m\u001b[0;34m)\u001b[0m\u001b[0;34m\u001b[0m\u001b[0;34m\u001b[0m\u001b[0m\n\u001b[0m\u001b[1;32m      2\u001b[0m \u001b[0;34m\u001b[0m\u001b[0m\n",
      "\u001b[0;31mAttributeError\u001b[0m: 'function' object has no attribute 'scatter'"
     ]
    }
   ],
   "source": [
    "plt.plot(df['cp'], df['od'], label='A', color='green')\n",
    "\n"
   ]
  },
  {
   "cell_type": "code",
   "execution_count": 55,
   "metadata": {},
   "outputs": [
    {
     "data": {
      "image/png": "[encoded data removed]",
      "text/plain": [
       "<Figure size 432x288 with 1 Axes>"
      ]
     },
     "metadata": {
      "needs_background": "light"
     },
     "output_type": "display_data"
    },
    {
     "data": {
      "text/plain": [
       "<Figure size 432x288 with 0 Axes>"
      ]
     },
     "metadata": {},
     "output_type": "display_data"
    }
   ],
   "source": [
    "import matplotlib.pyplot as plt\n",
    "\n",
    "fig = plt.figure()\n",
    "ax1 = fig.add_subplot(111)\n",
    "\n",
    "ax1.scatter(df['cp'], df['od'], s=15, c='r', label='log loss')\n",
    "ax1.plot(p, p, 'k-', alpha=0.75, zorder=0)\n",
    "plt.xlabel(\"CP average log loss\")\n",
    "plt.ylabel(\"OD average log loss\")\n",
    "plt.legend(loc='upper left');\n",
    "plt.show()\n",
    "plt.savefig(\"logloss1.png\")"
   ]
  },
  {
   "cell_type": "code",
   "execution_count": 44,
   "metadata": {},
   "outputs": [],
   "source": [
    "p = list(range(8))"
   ]
  },
  {
   "cell_type": "code",
   "execution_count": 19,
   "metadata": {},
   "outputs": [],
   "source": [
    "import pandas as pd\n",
    "fp = \"/Users/melika/Documents/MScProject/FireData/run_all/soph_models2.csv\"\n",
    "df = pd.read_csv(fp)\n",
    "\n"
   ]
  },
  {
   "cell_type": "code",
   "execution_count": 2,
   "metadata": {},
   "outputs": [
    {
     "data": {
      "text/html": [
       "<div>\n",
       "<style scoped>\n",
       "    .dataframe tbody tr th:only-of-type {\n",
       "        vertical-align: middle;\n",
       "    }\n",
       "\n",
       "    .dataframe tbody tr th {\n",
       "        vertical-align: top;\n",
       "    }\n",
       "\n",
       "    .dataframe thead th {\n",
       "        text-align: right;\n",
       "    }\n",
       "</style>\n",
       "<table border=\"1\" class=\"dataframe\">\n",
       "  <thead>\n",
       "    <tr style=\"text-align: right;\">\n",
       "      <th></th>\n",
       "      <th>source_pop</th>\n",
       "      <th>target_pop</th>\n",
       "      <th>LR</th>\n",
       "      <th>LR-O</th>\n",
       "      <th>LR-OD</th>\n",
       "      <th>XGB</th>\n",
       "      <th>XGB-D</th>\n",
       "      <th>XGB-OD</th>\n",
       "    </tr>\n",
       "  </thead>\n",
       "  <tbody>\n",
       "    <tr>\n",
       "      <th>0</th>\n",
       "      <td>9</td>\n",
       "      <td>10</td>\n",
       "      <td>0.624844</td>\n",
       "      <td>0.641436</td>\n",
       "      <td>0.631380</td>\n",
       "      <td>0.531681</td>\n",
       "      <td>0.539789</td>\n",
       "      <td>0.5350982544918449</td>\n",
       "    </tr>\n",
       "    <tr>\n",
       "      <th>1</th>\n",
       "      <td>4</td>\n",
       "      <td>9</td>\n",
       "      <td>0.377503</td>\n",
       "      <td>0.379068</td>\n",
       "      <td>0.378632</td>\n",
       "      <td>0.413892</td>\n",
       "      <td>0.414885</td>\n",
       "      <td>0.4147515458029093</td>\n",
       "    </tr>\n",
       "    <tr>\n",
       "      <th>2</th>\n",
       "      <td>9</td>\n",
       "      <td>14</td>\n",
       "      <td>0.169863</td>\n",
       "      <td>0.169882</td>\n",
       "      <td>0.159163</td>\n",
       "      <td>0.145303</td>\n",
       "      <td>0.156820</td>\n",
       "      <td>0.14302649169951767</td>\n",
       "    </tr>\n",
       "    <tr>\n",
       "      <th>3</th>\n",
       "      <td>9</td>\n",
       "      <td>6</td>\n",
       "      <td>0.382641</td>\n",
       "      <td>0.383148</td>\n",
       "      <td>0.383088</td>\n",
       "      <td>0.358179</td>\n",
       "      <td>0.358727</td>\n",
       "      <td>0.35865592180333555</td>\n",
       "    </tr>\n",
       "    <tr>\n",
       "      <th>4</th>\n",
       "      <td>5</td>\n",
       "      <td>9</td>\n",
       "      <td>0.386253</td>\n",
       "      <td>0.403595</td>\n",
       "      <td>0.391753</td>\n",
       "      <td>0.414714</td>\n",
       "      <td>0.414102</td>\n",
       "      <td>0.4164643721372517</td>\n",
       "    </tr>\n",
       "  </tbody>\n",
       "</table>\n",
       "</div>"
      ],
      "text/plain": [
       "   source_pop  target_pop        LR      LR-O     LR-OD       XGB     XGB-D  \\\n",
       "0           9          10  0.624844  0.641436  0.631380  0.531681  0.539789   \n",
       "1           4           9  0.377503  0.379068  0.378632  0.413892  0.414885   \n",
       "2           9          14  0.169863  0.169882  0.159163  0.145303  0.156820   \n",
       "3           9           6  0.382641  0.383148  0.383088  0.358179  0.358727   \n",
       "4           5           9  0.386253  0.403595  0.391753  0.414714  0.414102   \n",
       "\n",
       "                XGB-OD  \n",
       "0   0.5350982544918449  \n",
       "1   0.4147515458029093  \n",
       "2  0.14302649169951767  \n",
       "3  0.35865592180333555  \n",
       "4   0.4164643721372517  "
      ]
     },
     "execution_count": 2,
     "metadata": {},
     "output_type": "execute_result"
    }
   ],
   "source": [
    "df.head()"
   ]
  },
  {
   "cell_type": "code",
   "execution_count": 23,
   "metadata": {},
   "outputs": [
    {
     "data": {
      "image/png": "[encoded data removed]",
      "text/plain": [
       "<Figure size 432x288 with 1 Axes>"
      ]
     },
     "metadata": {
      "needs_background": "light"
     },
     "output_type": "display_data"
    },
    {
     "data": {
      "text/plain": [
       "<Figure size 432x288 with 0 Axes>"
      ]
     },
     "metadata": {},
     "output_type": "display_data"
    }
   ],
   "source": [
    "import matplotlib.pyplot as plt\n",
    "p = [0, 1.5]\n",
    "fig = plt.figure()\n",
    "ax1 = fig.add_subplot(111)\n",
    "\n",
    "ax1.scatter(df['LR'], df['LR-OD'], s=15, c='r', label='log loss')\n",
    "ax1.plot(p, p, 'k-', alpha=0.75, zorder=0)\n",
    "plt.xlabel(\"LR-CP average log loss\")\n",
    "plt.ylabel(\"LR-OD average log loss\")\n",
    "plt.legend(loc='upper left');\n",
    "plt.show()\n",
    "plt.savefig(\"lr.png\")"
   ]
  },
  {
   "cell_type": "code",
   "execution_count": 22,
   "metadata": {},
   "outputs": [
    {
     "data": {
      "image/png": "[encoded data removed]",
      "text/plain": [
       "<Figure size 432x288 with 1 Axes>"
      ]
     },
     "metadata": {
      "needs_background": "light"
     },
     "output_type": "display_data"
    },
    {
     "data": {
      "text/plain": [
       "<Figure size 432x288 with 0 Axes>"
      ]
     },
     "metadata": {},
     "output_type": "display_data"
    }
   ],
   "source": [
    "import matplotlib.pyplot as plt\n",
    "import matplotlib.ticker as tick\n",
    "p = list(range(3))\n",
    "fig = plt.figure()\n",
    "ax1 = fig.add_subplot(111)\n",
    "ax1.plot(p, p, 'k-', alpha=0.75, zorder=0)\n",
    "df['XGB']= df['XGB'].astype(float)\n",
    "df['XGB-OD']= df['XGB-OD'].astype(float)\n",
    "\n",
    "\n",
    "ax1.scatter(df['XGB'], df['XGB-OD'], s=15, c='r', label='log loss')\n",
    "\n",
    "\n",
    "plt.xlabel(\"XGB-CP average log loss\")\n",
    "plt.ylabel(\"XGB-OD average log loss\")\n",
    "plt.legend(loc='upper left');\n",
    "plt.show()\n",
    "plt.savefig(\"xgb.png\")"
   ]
  },
  {
   "cell_type": "code",
   "execution_count": 8,
   "metadata": {},
   "outputs": [
    {
     "data": {
      "image/png": "[encoded data removed]",
      "text/plain": [
       "<Figure size 432x288 with 1 Axes>"
      ]
     },
     "metadata": {
      "needs_background": "light"
     },
     "output_type": "display_data"
    },
    {
     "data": {
      "text/plain": [
       "<Figure size 432x288 with 0 Axes>"
      ]
     },
     "metadata": {},
     "output_type": "display_data"
    }
   ],
   "source": [
    "import pandas as pd\n",
    "fp = \"/Users/melika/Documents/MScProject/FireData/run_all/results2.csv\"\n",
    "df = pd.read_csv(fp, names=['source', 'target', 'cp', 'd', 'od', 'count', 'total', 'd-ratio'], header=None)\n",
    "import matplotlib.pyplot as plt\n",
    "\n",
    "fig = plt.figure()\n",
    "ax1 = fig.add_subplot(111)\n",
    "p = list(range(5))\n",
    "\n",
    "\n",
    "ax1.scatter(df['cp'], df['od'], s=15, c='r', label='log loss')\n",
    "ax1.plot(p, p, 'k-', alpha=0.75, zorder=0)\n",
    "plt.xlabel(\"CP average log loss\")\n",
    "plt.ylabel(\"OD average log loss\")\n",
    "plt.legend(loc='upper left');\n",
    "plt.show()\n",
    "plt.savefig(\"truelogloss.png\")\n",
    "\n",
    "\n"
   ]
  },
  {
   "cell_type": "code",
   "execution_count": 21,
   "metadata": {},
   "outputs": [
    {
     "data": {
      "text/html": [
       "<div>\n",
       "<style scoped>\n",
       "    .dataframe tbody tr th:only-of-type {\n",
       "        vertical-align: middle;\n",
       "    }\n",
       "\n",
       "    .dataframe tbody tr th {\n",
       "        vertical-align: top;\n",
       "    }\n",
       "\n",
       "    .dataframe thead th {\n",
       "        text-align: right;\n",
       "    }\n",
       "</style>\n",
       "<table border=\"1\" class=\"dataframe\">\n",
       "  <thead>\n",
       "    <tr style=\"text-align: right;\">\n",
       "      <th></th>\n",
       "      <th>split</th>\n",
       "      <th>source</th>\n",
       "      <th>target</th>\n",
       "      <th>lrc</th>\n",
       "      <th>lrd</th>\n",
       "      <th>lrod</th>\n",
       "      <th>xgbc</th>\n",
       "      <th>xgbd</th>\n",
       "      <th>xgbod</th>\n",
       "    </tr>\n",
       "  </thead>\n",
       "  <tbody>\n",
       "    <tr>\n",
       "      <th>0</th>\n",
       "      <td>Male</td>\n",
       "      <td>0</td>\n",
       "      <td>1</td>\n",
       "      <td>0.006268</td>\n",
       "      <td>0.004996</td>\n",
       "      <td>0.004562</td>\n",
       "      <td>0.004318</td>\n",
       "      <td>0.000461</td>\n",
       "      <td>0.004442</td>\n",
       "    </tr>\n",
       "    <tr>\n",
       "      <th>1</th>\n",
       "      <td>Male</td>\n",
       "      <td>1</td>\n",
       "      <td>0</td>\n",
       "      <td>0.003436</td>\n",
       "      <td>0.014223</td>\n",
       "      <td>0.005910</td>\n",
       "      <td>0.003745</td>\n",
       "      <td>0.014842</td>\n",
       "      <td>0.003835</td>\n",
       "    </tr>\n",
       "    <tr>\n",
       "      <th>2</th>\n",
       "      <td>Rural</td>\n",
       "      <td>0</td>\n",
       "      <td>1</td>\n",
       "      <td>0.014557</td>\n",
       "      <td>0.021006</td>\n",
       "      <td>0.015226</td>\n",
       "      <td>0.007517</td>\n",
       "      <td>0.013994</td>\n",
       "      <td>0.007638</td>\n",
       "    </tr>\n",
       "    <tr>\n",
       "      <th>3</th>\n",
       "      <td>Rural</td>\n",
       "      <td>1</td>\n",
       "      <td>0</td>\n",
       "      <td>0.003406</td>\n",
       "      <td>0.003189</td>\n",
       "      <td>0.003459</td>\n",
       "      <td>0.001080</td>\n",
       "      <td>0.000542</td>\n",
       "      <td>0.001076</td>\n",
       "    </tr>\n",
       "    <tr>\n",
       "      <th>4</th>\n",
       "      <td>Yes</td>\n",
       "      <td>1</td>\n",
       "      <td>0</td>\n",
       "      <td>0.005013</td>\n",
       "      <td>0.001536</td>\n",
       "      <td>0.006792</td>\n",
       "      <td>0.000485</td>\n",
       "      <td>0.000970</td>\n",
       "      <td>0.001140</td>\n",
       "    </tr>\n",
       "  </tbody>\n",
       "</table>\n",
       "</div>"
      ],
      "text/plain": [
       "   split  source  target       lrc       lrd      lrod      xgbc      xgbd  \\\n",
       "0   Male       0       1  0.006268  0.004996  0.004562  0.004318  0.000461   \n",
       "1   Male       1       0  0.003436  0.014223  0.005910  0.003745  0.014842   \n",
       "2  Rural       0       1  0.014557  0.021006  0.015226  0.007517  0.013994   \n",
       "3  Rural       1       0  0.003406  0.003189  0.003459  0.001080  0.000542   \n",
       "4    Yes       1       0  0.005013  0.001536  0.006792  0.000485  0.000970   \n",
       "\n",
       "      xgbod  \n",
       "0  0.004442  \n",
       "1  0.003835  \n",
       "2  0.007638  \n",
       "3  0.001076  \n",
       "4  0.001140  "
      ]
     },
     "execution_count": 21,
     "metadata": {},
     "output_type": "execute_result"
    }
   ],
   "source": [
    "import pandas as pd\n",
    "fp = \"/Users/melika/Documents/MScProject/Stroke/stroke_soph.csv\"\n",
    "df = pd.read_csv(fp)\n",
    "\n",
    "\n",
    "df.head()"
   ]
  },
  {
   "cell_type": "code",
   "execution_count": 22,
   "metadata": {},
   "outputs": [
    {
     "name": "stdout",
     "output_type": "stream",
     "text": [
      "ok\n"
     ]
    }
   ],
   "source": [
    "print(\"ok\")"
   ]
  },
  {
   "cell_type": "code",
   "execution_count": 31,
   "metadata": {},
   "outputs": [
    {
     "data": {
      "image/png": "[encoded data removed]",
      "text/plain": [
       "<Figure size 432x288 with 1 Axes>"
      ]
     },
     "metadata": {
      "needs_background": "light"
     },
     "output_type": "display_data"
    },
    {
     "data": {
      "text/plain": [
       "<Figure size 432x288 with 0 Axes>"
      ]
     },
     "metadata": {},
     "output_type": "display_data"
    }
   ],
   "source": [
    "import matplotlib.pyplot as plt\n",
    "import matplotlib.ticker as tick\n",
    "p = [x/100 for x in range(3)]\n",
    "fig = plt.figure()\n",
    "ax1 = fig.add_subplot(111)\n",
    "ax1.plot(p, p, 'k-', alpha=0.75, zorder=0)\n",
    "#df['XGB']= df['XGB'].astype(float)\n",
    "#df['XGB-OD']= df['XGB-OD'].astype(float)\n",
    "\n",
    "\n",
    "ax1.scatter(df['xgbc'], df['xgbod'], s=15, c='r', label='log loss')\n",
    "\n",
    "\n",
    "plt.xlabel(\"CP average log loss\")\n",
    "plt.ylabel(\"OD average log loss\")\n",
    "plt.legend(loc='upper left');\n",
    "plt.show()\n",
    "plt.savefig(\"stroke-lr.png\")"
   ]
  },
  {
   "cell_type": "code",
   "execution_count": null,
   "metadata": {},
   "outputs": [],
   "source": []
  }
 ],
 "metadata": {
  "kernelspec": {
   "display_name": "Python 3",
   "language": "python",
   "name": "python3"
  },
  "language_info": {
   "codemirror_mode": {
    "name": "ipython",
    "version": 3
   },
   "file_extension": ".py",
   "mimetype": "text/x-python",
   "name": "python",
   "nbconvert_exporter": "python",
   "pygments_lexer": "ipython3",
   "version": "3.6.13"
  }
 },
 "nbformat": 4,
 "nbformat_minor": 5
}
